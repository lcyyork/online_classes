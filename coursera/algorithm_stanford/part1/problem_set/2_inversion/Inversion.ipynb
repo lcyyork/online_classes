{
 "cells": [
  {
   "cell_type": "code",
   "execution_count": 1,
   "metadata": {
    "collapsed": false
   },
   "outputs": [
    {
     "name": "stdout",
     "output_type": "stream",
     "text": [
      "([1, 1, 2, 3, 4, 9], 8)\n"
     ]
    }
   ],
   "source": [
    "def Merge_and_CountSplitInv(left, right, sorted_result):\n",
    "    i, j = 0, 0\n",
    "    count = 0\n",
    "    nleft = len(left)\n",
    "    nright = len(right)\n",
    "    n = nleft + nright\n",
    "    sorted_result = [0] * n\n",
    "    \n",
    "    for k in range(n):\n",
    "        if i == nleft:\n",
    "            sorted_result[k] = right[j]\n",
    "            j += 1\n",
    "            continue\n",
    "            \n",
    "        if j == nright:\n",
    "            sorted_result[k] = left[i]\n",
    "            i += 1\n",
    "            continue\n",
    "        \n",
    "        if left[i] <= right[j]:\n",
    "            sorted_result[k] = left[i]\n",
    "            i += 1\n",
    "        else:\n",
    "            sorted_result[k] = right[j]\n",
    "            count += nleft - i\n",
    "            j += 1\n",
    "    \n",
    "    return sorted_result, count\n",
    "\n",
    "def Sort_and_Count(A):\n",
    "    n = len(A)\n",
    "    if n == 1:\n",
    "        return A, 0\n",
    "    else:\n",
    "        nhalf = n / 2\n",
    "        \n",
    "        left, x = Sort_and_Count(A[:nhalf])\n",
    "        right, y = Sort_and_Count(A[nhalf:])\n",
    "        result, z = Merge_and_CountSplitInv(left, right, A)\n",
    "        \n",
    "        return result, x + y + z\n",
    "\n",
    "def CountInv(A):\n",
    "    return Sort_and_Count(A)[1]\n",
    "    \n",
    "print Sort_and_Count([4, 1, 3, 2, 9, 1])"
   ]
  },
  {
   "cell_type": "code",
   "execution_count": null,
   "metadata": {
    "collapsed": false
   },
   "outputs": [],
   "source": [
    "content = [int(line.rstrip('\\n')) for line in open('integer_array.txt')]\n",
    "CountInv(content)"
   ]
  },
  {
   "cell_type": "code",
   "execution_count": null,
   "metadata": {
    "collapsed": true
   },
   "outputs": [],
   "source": []
  }
 ],
 "metadata": {
  "anaconda-cloud": {},
  "kernelspec": {
   "display_name": "Python [conda root]",
   "language": "python",
   "name": "conda-root-py"
  },
  "language_info": {
   "codemirror_mode": {
    "name": "ipython",
    "version": 2
   },
   "file_extension": ".py",
   "mimetype": "text/x-python",
   "name": "python",
   "nbconvert_exporter": "python",
   "pygments_lexer": "ipython2",
   "version": "2.7.12"
  }
 },
 "nbformat": 4,
 "nbformat_minor": 1
}
