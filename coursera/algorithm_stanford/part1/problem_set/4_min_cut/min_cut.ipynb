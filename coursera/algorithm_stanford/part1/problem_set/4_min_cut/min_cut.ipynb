{
 "cells": [
  {
   "cell_type": "markdown",
   "metadata": {
    "collapsed": true
   },
   "source": [
    "Instructions\n",
    "\n",
    "The file contains the adjacency list representation of a simple undirected graph.\n",
    "There are 200 vertices labeled 1 to 200. The first column in the file represents\n",
    "the vertex label, and the particular row (other entries except the first column)\n",
    "tells all the vertices that the vertex is adjacent to. So for example, the 6th row\n",
    "looks like: \"6 155 56 52 120 ......\". This just means that the vertex with label 6\n",
    "is adjacent to (i.e., shares an edge with) the vertices with labels 155,56,52,120,......,etc\n",
    "\n",
    "Your task is to code up and run the randomized contraction algorithm for the min\n",
    "cut problem and use it on the above graph to compute the min cut. (HINT: Note that\n",
    "you'll have to figure out an implementation of edge contractions. Initially, you\n",
    "might want to do this naively, creating a new graph from the old every time there's\n",
    "an edge contraction. But you should also think about more efficient implementations.)\n",
    "(WARNING: As per the video lectures, please make sure to run the algorithm many times\n",
    "with different random seeds, and remember the smallest cut that you ever find.)\n",
    "Write your numeric answer in the space provided. So e.g., if your answer is 5, just\n",
    "type 5 in the space provided."
   ]
  },
  {
   "cell_type": "code",
   "execution_count": 1,
   "metadata": {
    "collapsed": false
   },
   "outputs": [],
   "source": [
    "# Store in the same way as adjacency list\n",
    "\n",
    "import csv\n",
    "def read_graph(filename):\n",
    "    # Read an undirected graph in CSV format. Each line is an edge\n",
    "    tsv = csv.reader(open(filename), delimiter='\\t')\n",
    "    graph = {}\n",
    "    \n",
    "    for node in tsv:\n",
    "        graph[node[0]] = node[1:-1]\n",
    "            \n",
    "    return graph\n",
    "\n",
    "from random import choice\n",
    "def random_edge(graph):\n",
    "    node1 = choice(graph.keys())\n",
    "    node2 = choice(graph[node1])\n",
    "    return node1, node2\n",
    "\n",
    "def merge(graph, node1, node2):\n",
    "    # remove node2 from the graph and change connections of\n",
    "    # all other nodes that are connected to node2 to node1\n",
    "    \n",
    "    graph[node1].remove(node2)\n",
    "    graph[node2].remove(node1)\n",
    "    \n",
    "    graph[node1].extend(graph[node2])\n",
    "    \n",
    "    for edge2 in set(graph[node2]):\n",
    "        new_edges = []\n",
    "        for node in graph[edge2]:\n",
    "            if node == node2:\n",
    "                new_edges.append(node1)\n",
    "            else:\n",
    "                new_edges.append(node)\n",
    "        graph[edge2] = new_edges\n",
    "\n",
    "    graph.pop(node2)\n",
    "    \n",
    "    return graph\n",
    "\n",
    "def delete_self_loop(graph, node):\n",
    "    if node in graph[node]:\n",
    "        graph[node] = [i for i in graph[node] if i != node]\n",
    "    return graph\n",
    "\n",
    "def min_cut(graph):\n",
    "    while len(graph) > 2:\n",
    "        node1, node2 = random_edge(graph)\n",
    "        graph = merge(graph, node1, node2)\n",
    "        graph = delete_self_loop(graph, node1)\n",
    "#         print node1, node2, graph\n",
    "    m = len(graph[graph.keys()[0]])\n",
    "    print m, graph.keys()\n",
    "    return m\n",
    "\n",
    "import copy\n",
    "def main(graph):\n",
    "    Nnodes = len(graph)\n",
    "    cuts = []\n",
    "    \n",
    "    for i in range(Nnodes):\n",
    "        G = copy.deepcopy(graph)\n",
    "        m = min_cut(G)\n",
    "        cuts.append(m)\n",
    "\n",
    "    return min(cuts)"
   ]
  },
  {
   "cell_type": "code",
   "execution_count": 2,
   "metadata": {
    "collapsed": false
   },
   "outputs": [
    {
     "name": "stdout",
     "output_type": "stream",
     "text": [
      "3 [2, 4]\n",
      "3 [2, 4]\n",
      "3 [2, 3]\n",
      "2 [2, 4]\n"
     ]
    },
    {
     "data": {
      "text/plain": [
       "2"
      ]
     },
     "execution_count": 2,
     "metadata": {},
     "output_type": "execute_result"
    }
   ],
   "source": [
    "# test\n",
    "graph = {1: [2, 3], 2: [1, 3, 4], 3: [1, 2, 4], 4: [2, 3]}\n",
    "nodes = [1, 2, 3, 4]\n",
    "results = []\n",
    "main(graph)"
   ]
  },
  {
   "cell_type": "code",
   "execution_count": 3,
   "metadata": {
    "collapsed": false
   },
   "outputs": [
    {
     "name": "stdout",
     "output_type": "stream",
     "text": [
      "6 ['4', '7']\n",
      "4 ['1', '3']\n",
      "4 ['5', '4']\n",
      "3 ['3', '8']\n",
      "4 ['5', '8']\n",
      "3 ['3', '5']\n",
      "3 ['1', '2']\n",
      "2 ['4', '8']\n"
     ]
    },
    {
     "data": {
      "text/plain": [
       "2"
      ]
     },
     "execution_count": 3,
     "metadata": {},
     "output_type": "execute_result"
    }
   ],
   "source": [
    "def read_from_text(text):\n",
    "    lines = [i for i in text.split(\"\\n\") if i]\n",
    "    graph = {}\n",
    "    \n",
    "    for line in lines:\n",
    "        nodes = line.split()\n",
    "        graph[nodes[0]] = nodes[1:]\n",
    "    \n",
    "    return graph\n",
    "\n",
    "text = \"\"\"\n",
    "1 2 3 4 7\n",
    "\n",
    "2 1 3 4\n",
    "\n",
    "3 1 2 4\n",
    "\n",
    "4 1 2 3 5\n",
    "\n",
    "5 4 6 7 8\n",
    "\n",
    "6 5 7 8\n",
    "\n",
    "7 1 5 6 8\n",
    "\n",
    "8 5 6 7\n",
    "\"\"\" \n",
    "graph = read_from_text(text)\n",
    "main(graph)"
   ]
  },
  {
   "cell_type": "code",
   "execution_count": null,
   "metadata": {
    "collapsed": false,
    "scrolled": false
   },
   "outputs": [],
   "source": [
    "graph = read_graph(\"./kargerMinCut.txt\")\n",
    "\n",
    "from timeit import default_timer as timer\n",
    "start = timer()\n",
    "\n",
    "for i in range(1):\n",
    "    main(graph)\n",
    "\n",
    "end = timer()\n",
    "print \"Timing: {0:.6f} s\".format(end - start)"
   ]
  },
  {
   "cell_type": "code",
   "execution_count": 4,
   "metadata": {
    "collapsed": false,
    "scrolled": false
   },
   "outputs": [],
   "source": [
    "# A different data structure where we store unique edges\n",
    "\n",
    "import csv\n",
    "def read_graph2(filename):\n",
    "    # Read an undirected graph in CSV format. Each line is an edge\n",
    "    tsv = csv.reader(open(filename), delimiter='\\t')\n",
    "    edges = []\n",
    "    vertices = set()\n",
    "    \n",
    "    for nodes in tsv:\n",
    "        for node in nodes[1:-1]:\n",
    "            vertices.add(node)\n",
    "            b1 = (nodes[0], node) not in edges\n",
    "            b2 = (node, nodes[0]) not in edges\n",
    "            if b1 and b2:\n",
    "                edges.append((nodes[0], node))\n",
    "\n",
    "    return edges, vertices\n",
    "\n",
    "from random import choice\n",
    "def random_edge2(edges):\n",
    "    node1, node2 = choice(edges)\n",
    "    return node1, node2\n",
    "\n",
    "def merge2(edges, nodes, node1, node2):\n",
    "    edges.remove((node1, node2))\n",
    "    nodes.remove(node2)\n",
    "    \n",
    "    nedges = len(edges)\n",
    "    for i in range(nedges):\n",
    "        u, v = edges[i]\n",
    "        if u == node2:\n",
    "            edges[i] = (node1, v)\n",
    "        if v == node2:\n",
    "            edges[i] = (u, node1)\n",
    "    \n",
    "#     # test failure\n",
    "#     for u, v in edges:\n",
    "#         if u == node2 or v == node2:\n",
    "#             print \"MERGE FAIL\", u, v\n",
    "    \n",
    "    return edges, nodes\n",
    "\n",
    "def delete_self_loop2(edges):\n",
    "    return [i for i in edges if i[0] != i[1]]\n",
    "\n",
    "def min_cut2(edges, nodes):\n",
    "    while len(nodes) > 2:\n",
    "        node1, node2 = random_edge2(edges)\n",
    "        edges, nodes = merge2(edges, nodes, node1, node2)\n",
    "        edges = delete_self_loop2(edges)\n",
    "    mc = len(edges)\n",
    "    print mc, edges[0]\n",
    "    return mc\n",
    "\n",
    "import copy\n",
    "def main2(edges, nodes):\n",
    "    n_nodes = len(nodes)\n",
    "    m = None\n",
    "    \n",
    "    for i in range(n_nodes):\n",
    "        E = copy.deepcopy(edges)\n",
    "        N = copy.deepcopy(nodes)\n",
    "        if m == None:\n",
    "            m = min_cut2(E, N)\n",
    "        else:\n",
    "            n = min_cut2(E, N)\n",
    "            if n < m:\n",
    "                m = n\n",
    "    \n",
    "    return m"
   ]
  },
  {
   "cell_type": "code",
   "execution_count": 5,
   "metadata": {
    "collapsed": false
   },
   "outputs": [
    {
     "name": "stdout",
     "output_type": "stream",
     "text": [
      "4 ('1', '5')\n",
      "5 ('1', '2')\n",
      "3 ('2', '6')\n",
      "4 ('1', '6')\n",
      "3 ('1', '6')\n",
      "2 ('1', '6')\n",
      "4 ('2', '6')\n",
      "2 ('1', '5')\n"
     ]
    },
    {
     "data": {
      "text/plain": [
       "2"
      ]
     },
     "execution_count": 5,
     "metadata": {},
     "output_type": "execute_result"
    }
   ],
   "source": [
    "def read_from_text2(text):\n",
    "    lines = (i for i in text.split(\"\\n\") if i)\n",
    "    edges = []\n",
    "    vertices = set()\n",
    "    \n",
    "    for line in lines:\n",
    "        nodes = line.split()\n",
    "        for node in nodes[1:]:\n",
    "            vertices.add(node)\n",
    "            b1 = (nodes[0], node) not in edges\n",
    "            b2 = (node, nodes[0]) not in edges\n",
    "            if b1 and b2:\n",
    "                edges.append((nodes[0], node))\n",
    "    \n",
    "    return edges, vertices\n",
    "\n",
    "text = \"\"\"\n",
    "1 2 3 4 7\n",
    "\n",
    "2 1 3 4\n",
    "\n",
    "3 1 2 4\n",
    "\n",
    "4 1 2 3 5\n",
    "\n",
    "5 4 6 7 8\n",
    "\n",
    "6 5 7 8\n",
    "\n",
    "7 1 5 6 8\n",
    "\n",
    "8 5 6 7\n",
    "\"\"\"\n",
    " \n",
    "edges, nodes = read_from_text2(text)\n",
    "main2(edges, nodes)"
   ]
  },
  {
   "cell_type": "code",
   "execution_count": null,
   "metadata": {
    "collapsed": false,
    "scrolled": false
   },
   "outputs": [],
   "source": [
    "edges, nodes = read_graph2(\"./kargerMinCut.txt\")\n",
    "\n",
    "from timeit import default_timer as timer\n",
    "start = timer()\n",
    "\n",
    "main2(edges, nodes)\n",
    "\n",
    "end = timer()\n",
    "print \"Timing: {0:.6f}\".format(end - start)"
   ]
  },
  {
   "cell_type": "code",
   "execution_count": null,
   "metadata": {
    "collapsed": true
   },
   "outputs": [],
   "source": []
  }
 ],
 "metadata": {
  "anaconda-cloud": {},
  "kernelspec": {
   "display_name": "Python [conda root]",
   "language": "python",
   "name": "conda-root-py"
  },
  "language_info": {
   "codemirror_mode": {
    "name": "ipython",
    "version": 2
   },
   "file_extension": ".py",
   "mimetype": "text/x-python",
   "name": "python",
   "nbconvert_exporter": "python",
   "pygments_lexer": "ipython2",
   "version": "2.7.12"
  }
 },
 "nbformat": 4,
 "nbformat_minor": 1
}
