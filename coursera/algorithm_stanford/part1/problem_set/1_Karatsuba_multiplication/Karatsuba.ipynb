{
 "cells": [
  {
   "cell_type": "code",
   "execution_count": null,
   "metadata": {
    "collapsed": false
   },
   "outputs": [],
   "source": [
    "def karatsuba_str(num1, num2):\n",
    "#     print num1, num2\n",
    "    half = max(len(num1) / 2, len(num2) / 2)\n",
    "    if half == 0:\n",
    "        if num1 == '':\n",
    "            return 0\n",
    "        if num2 == '':\n",
    "            return 0\n",
    "#         print \"xxx\", num1, num2, int(num1) * int(num2)\n",
    "        return int(num1) * int(num2)\n",
    "    else:\n",
    "        high1 = num1[:-half]\n",
    "        low1  = num1[-half:]\n",
    "        high2 = num2[:-half]\n",
    "        low2  = num2[-half:]\n",
    "        if high1 == '':\n",
    "            high1 = '0'\n",
    "        if high2 == '':\n",
    "            high2 = '0'\n",
    "        if low1 == '':\n",
    "            low1 = '0'\n",
    "        if low2 == '':\n",
    "            low2 = '0'\n",
    "        v1 = karatsuba_str(high1, high2)\n",
    "        v2 = karatsuba_str(low1, low2)\n",
    "        n1 = str(int(high1) + int(low1))\n",
    "        n2 = str(int(high2) + int(low2))\n",
    "        v3 = karatsuba_str(n1, n2) - v1 - v2\n",
    "#         print v1, v2, v3\n",
    "        return 10 ** (2 * half) * v1 + 10 ** (half) * v3 + v2"
   ]
  },
  {
   "cell_type": "code",
   "execution_count": null,
   "metadata": {
    "collapsed": false
   },
   "outputs": [],
   "source": [
    "# n1 = 3141592653589793238462643383279502884197169399375105820974944592\n",
    "# n2 = 2718281828459045235360287471352662497757247093699959574966967627\n",
    "\n",
    "n1 = 1234\n",
    "n2 = 5678\n",
    "\n",
    "print karatsuba_str(str(n1), str(n2))\n",
    "print n1 * n2"
   ]
  },
  {
   "cell_type": "code",
   "execution_count": null,
   "metadata": {
    "collapsed": false
   },
   "outputs": [],
   "source": [
    "import math\n",
    "\n",
    "def ndigits(n):\n",
    "    if n == 0:\n",
    "        return 1\n",
    "    return int(math.log10(n))+1\n",
    "\n",
    "# split num at digit n\n",
    "# e.g. split_num(100, 1) -> 10, 0\n",
    "def split_num(num, n):\n",
    "    e = int(10 ** n)\n",
    "    high = num / e\n",
    "    low = num - high * e\n",
    "#     low = num % e\n",
    "    return high, low\n",
    "\n",
    "def karatsuba(num1, num2):\n",
    "    half = max(ndigits(num1)/2, ndigits(num2)/2)\n",
    "#     print num1, num2\n",
    "    if half == 0:\n",
    "#         print \"xxx\", num1, num2, num1 * num2\n",
    "        return num1 * num2\n",
    "    high1, low1 = split_num(num1, half)\n",
    "    high2, low2 = split_num(num2, half)\n",
    "#     print high1, low1, high2, low2\n",
    "    v1 = karatsuba(low1, low2)\n",
    "    v2 = karatsuba(high1, high2)\n",
    "    v3 = karatsuba(high1+low1, high2+low2) - v1 - v2\n",
    "    return v2 * (10 ** (2 * half)) + v3 * (10 ** half) + v1"
   ]
  },
  {
   "cell_type": "code",
   "execution_count": null,
   "metadata": {
    "collapsed": false
   },
   "outputs": [],
   "source": [
    "print karatsuba(n1, n2)"
   ]
  },
  {
   "cell_type": "code",
   "execution_count": null,
   "metadata": {
    "collapsed": false
   },
   "outputs": [],
   "source": [
    "from timeit import default_timer as timer\n",
    "\n",
    "def test(n1, n2):\n",
    "    al_str = []\n",
    "    al_num = []\n",
    "    \n",
    "    answer1 = 0.0\n",
    "    answer2 = 0.0\n",
    "    run = 50\n",
    "    for i in range(run):\n",
    "        start = timer()\n",
    "        answer1 = karatsuba_str(str(n1), str(n2))\n",
    "        end = timer()\n",
    "        al_str.append(float(end - start))\n",
    "        \n",
    "        start = timer()\n",
    "        answer2 = karatsuba(n1, n2)\n",
    "        end = timer()\n",
    "        al_num.append(float(end - start))\n",
    "        \n",
    "    print \"String:\", answer1\n",
    "    print \"Time:\", sum(al_str)/run\n",
    "    print\n",
    "    print \"Direct:\", answer2\n",
    "    print \"Time:\", sum(al_num)/run \n",
    "    print\n",
    "\n",
    "n1 = 3141592653589793238462643383279502884197169399375105820974944592\n",
    "n2 = 2718281828459045235360287471352662497757247093699959574966967627\n",
    "test(n1, n2)\n",
    "\n",
    "n1 = 31415926535897932384626433832795028841971693993751058209749445922718281828459045235360287471352662497757247093699959574966967627\n",
    "n2 = 27182818284590452353602874713526624977572470936999595749669676273141592653589793238462643383279502884197169399375105820974944592\n",
    "test(n1, n2)\n",
    "\n",
    "n1 = 314159265358979323846264338327950288419716939937510582097494459231415926535897932384626433832795028841971693993751058209749445923141592653589793238462643383279502884197169399375105820974944592\n",
    "n2 = 271828182845904523536028747135266249775724709369995957496696762727182818284590452353602874713526624977572470936999595749669676272718281828459045235360287471352662497757247093699959574966967627\n",
    "test(n1, n2)"
   ]
  },
  {
   "cell_type": "code",
   "execution_count": null,
   "metadata": {
    "collapsed": true
   },
   "outputs": [],
   "source": []
  }
 ],
 "metadata": {
  "anaconda-cloud": {},
  "kernelspec": {
   "display_name": "Python [conda root]",
   "language": "python",
   "name": "conda-root-py"
  },
  "language_info": {
   "codemirror_mode": {
    "name": "ipython",
    "version": 2
   },
   "file_extension": ".py",
   "mimetype": "text/x-python",
   "name": "python",
   "nbconvert_exporter": "python",
   "pygments_lexer": "ipython2",
   "version": "2.7.12"
  }
 },
 "nbformat": 4,
 "nbformat_minor": 1
}
