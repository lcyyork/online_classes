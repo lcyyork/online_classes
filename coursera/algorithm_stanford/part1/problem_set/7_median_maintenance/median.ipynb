{
 "cells": [
  {
   "cell_type": "markdown",
   "metadata": {},
   "source": [
    "The goal of this problem is to implement the \"Median Maintenance\" algorithm (covered in the Week 3 lecture on heap applications). The text file contains a list of the integers from 1 to 10000 in unsorted order; you should treat this as a stream of numbers, arriving one by one. Letting xi denote the ith number of the file, the kth median mk is defined as the median of the numbers x1,…,xk. (So, if k is odd, then mk is ((k+1)/2)th smallest number among x1,…,xk; if k is even, then mk is the (k/2)th smallest number among x1,…,xk.)\n",
    "\n",
    "In the box below you should type the sum of these 10000 medians, modulo 10000 (i.e., only the last 4 digits). That is, you should compute (m1+m2+m3+⋯+m10000)mod10000.\n",
    "\n",
    "OPTIONAL EXERCISE: Compare the performance achieved by heap-based and search-tree-based implementations of the algorithm."
   ]
  },
  {
   "cell_type": "code",
   "execution_count": 1,
   "metadata": {
    "collapsed": true
   },
   "outputs": [],
   "source": [
    "# timer grabbed from \n",
    "# https://stackoverflow.com/questions/7370801/measure-time-elapsed-in-python\n",
    "from timeit import default_timer as timer\n",
    "class benchmark(object):\n",
    "    def __init__(self, msg, fmt=\"%0.3g\"):\n",
    "        self.msg = msg\n",
    "        self.fmt = fmt\n",
    "\n",
    "    def __enter__(self):\n",
    "        self.start = timer()\n",
    "        return self\n",
    "\n",
    "    def __exit__(self, *args):\n",
    "        t = timer() - self.start\n",
    "        print((\"%s : \" + self.fmt + \" seconds\") % (self.msg, t))\n",
    "        self.time = t"
   ]
  },
  {
   "cell_type": "markdown",
   "metadata": {},
   "source": [
    "# Median Maintenance\n",
    "\n",
    "## Task\n",
    "Given a sequence of numbers $x_1,\\dots,x_n$, read the number one-by-one. <br>\n",
    "We want to know, at each step $i$, the median of ${x_1, \\dots, x_i}$ using ${\\cal O}(\\log i)$ time. <br>\n",
    "\n",
    "## Solution\n",
    "Maintain two heaps:\n",
    "1. Hlow: store the lowest $i/2$ elements in Hlow that supports extract_max.\n",
    "2. Hmax: store the highest $i/2$ elements in Hhigh that supports extract_min.\n",
    "\n",
    "If we make sure ```len(Hlow) >= len(Hhigh)```, then according to the definition given above, the median is always the largest element in Hlow. <br>\n",
    "To utilize the heapq from python, which only supports extract_min, we store the smallest $i/2$ elements as their negative numbers."
   ]
  },
  {
   "cell_type": "code",
   "execution_count": 2,
   "metadata": {
    "collapsed": false
   },
   "outputs": [],
   "source": [
    "import heapq\n",
    "\n",
    "Hlow, Hhigh = [], []\n",
    "\n",
    "def median_maintenance_insert(x):\n",
    "    \"\"\" Insert value x to the heaps and return the median. \"\"\"\n",
    "    if not Hlow:\n",
    "        heapq.heappush(Hlow, -x)\n",
    "    else:\n",
    "        l = -Hlow[0] # the largest number for the smaller half\n",
    "        if l < x:\n",
    "            p = None\n",
    "            if len(Hhigh) - len(Hlow) == 0:      # rebalance Hlow and Hhigh so that len(Hlow) >= len(Hhigh)\n",
    "                p = heapq.heappushpop(Hhigh, x)\n",
    "                heapq.heappush(Hlow, -p)\n",
    "            else:                                # no need to rebalance\n",
    "                heapq.heappush(Hhigh, x)\n",
    "        else:\n",
    "            p = None\n",
    "            if len(Hlow) - len(Hhigh) == 1:      # rebalance Hlow and Hhigh\n",
    "                p = heapq.heappushpop(Hlow, -x)\n",
    "                heapq.heappush(Hhigh, -p)\n",
    "            else:                                # no need to rebalance\n",
    "                heapq.heappush(Hlow, -x)\n",
    "    \n",
    "    return -Hlow[0]\n",
    "\n",
    "def reset_heaps():\n",
    "    global Hlow, Hhigh\n",
    "    Hlow, Hhigh = [], []\n",
    "    return\n",
    "\n",
    "def median_maintenance_list(list_iter):\n",
    "    reset_heaps()\n",
    "    medians = []\n",
    "    for i in list_iter:\n",
    "        medians.append(median_maintenance_insert(i))\n",
    "        print Hlow, Hhigh\n",
    "    modulo = sum(medians) % 10000\n",
    "    print \"List of medians: \", medians\n",
    "    print \"Sum of medians modulo 10000: {0}\".format(modulo)\n",
    "    return modulo\n",
    "\n",
    "def median_maintenance_file(filename):\n",
    "    # assume each line contains only one number in the file\n",
    "    reset_heaps()\n",
    "    sum_medians = 0\n",
    "    for line in open(filename, 'r'):\n",
    "        x = int(line.rstrip())\n",
    "        sum_medians += median_maintenance_insert(x)\n",
    "    print \"Sum of medians: {0}, sum of medians modulo 10000: {1}\".format(sum_medians, sum_medians % 10000)\n",
    "    return"
   ]
  },
  {
   "cell_type": "code",
   "execution_count": 3,
   "metadata": {
    "collapsed": false
   },
   "outputs": [
    {
     "name": "stdout",
     "output_type": "stream",
     "text": [
      "[-1] []\n",
      "[-1] [666]\n",
      "[-10, -1] [666]\n",
      "[-10, -1] [666, 667]\n",
      "[-100, -1, -10] [666, 667]\n",
      "[-10, -1, -2] [100, 667, 666]\n",
      "[-10, -3, -2, -1] [100, 667, 666]\n",
      "List of medians:  [1, 1, 10, 10, 100, 10, 10]\n",
      "Sum of medians modulo 10000: 142\n",
      "[-6331] []\n",
      "[-2793] [6331]\n",
      "[-2793, -1640] [6331]\n",
      "[-2793, -1640] [6331, 9290]\n",
      "[-2793, -1640, -225] [6331, 9290]\n",
      "[-1640, -625, -225] [2793, 9290, 6331]\n",
      "[-2793, -1640, -225, -625] [6195, 9290, 6331]\n",
      "[-2303, -1640, -225, -625] [2793, 6195, 6331, 9290]\n",
      "[-2793, -2303, -225, -625, -1640] [5685, 6195, 6331, 9290]\n",
      "[-2303, -1640, -225, -625, -1354] [2793, 5685, 6331, 9290, 6195]\n",
      "List of medians:  [6331, 2793, 2793, 2793, 2793, 1640, 2793, 2303, 2793, 2303]\n",
      "Sum of medians modulo 10000: 9335\n"
     ]
    }
   ],
   "source": [
    "# test cases\n",
    "test1 = [1,666,10,667,100,2,3]\n",
    "answ1 = 142\n",
    "\n",
    "test2 = [6331,2793,1640,9290,225,625,6195,2303,5685,1354]\n",
    "answ2 = 9335\n",
    "\n",
    "assert median_maintenance_list(test1) == answ1, \"Did not pass test1.\"\n",
    "assert median_maintenance_list(test2) == answ2, \"Did not pass test2.\""
   ]
  },
  {
   "cell_type": "code",
   "execution_count": null,
   "metadata": {
    "collapsed": false
   },
   "outputs": [],
   "source": [
    "median_maintenance_file(\"Median.txt\")"
   ]
  },
  {
   "cell_type": "markdown",
   "metadata": {},
   "source": [
    "# Notes on red-black tree\n",
    "\n",
    "A red–black tree is a kind of self-balancing binary search tree.\n",
    "\n",
    "## Invariants in red-black tree\n",
    "1. Each node is either red or black.\n",
    "2. Root node is black.\n",
    "3. No two red nodes in a row, that is, red nodes have only black children.\n",
    "4. Every root-NULL path has the same number of black nodes. (NULL: unsuccessful search)\n",
    "\n",
    "## Operations"
   ]
  },
  {
   "cell_type": "code",
   "execution_count": null,
   "metadata": {
    "collapsed": true
   },
   "outputs": [],
   "source": []
  }
 ],
 "metadata": {
  "anaconda-cloud": {},
  "kernelspec": {
   "display_name": "Python [conda root]",
   "language": "python",
   "name": "conda-root-py"
  },
  "language_info": {
   "codemirror_mode": {
    "name": "ipython",
    "version": 2
   },
   "file_extension": ".py",
   "mimetype": "text/x-python",
   "name": "python",
   "nbconvert_exporter": "python",
   "pygments_lexer": "ipython2",
   "version": "2.7.12"
  }
 },
 "nbformat": 4,
 "nbformat_minor": 1
}
