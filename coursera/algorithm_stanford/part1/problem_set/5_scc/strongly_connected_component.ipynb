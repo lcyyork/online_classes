{
 "cells": [
  {
   "cell_type": "markdown",
   "metadata": {},
   "source": [
    "The file contains the edges of a directed graph. Vertices are labeled as positive integers from 1 to 875714. Every row indicates an edge, the vertex label in first column is the tail and the vertex label in second column is the head (recall the graph is directed, and the edges are directed from the first column vertex to the second column vertex). So for example, the 11th row looks liks : \"2 47646\". This just means that the vertex with label 2 has an outgoing edge to the vertex with label 47646\n",
    "\n",
    "Your task is to code up the algorithm from the video lectures for computing strongly connected components (SCCs), and to run this algorithm on the given graph.\n",
    "\n",
    "Output Format: You should output the sizes of the 5 largest SCCs in the given graph, in decreasing order of sizes, separated by commas (avoid any spaces). So if your algorithm computes the sizes of the five largest SCCs to be 500, 400, 300, 200 and 100, then your answer should be \"500,400,300,200,100\" (without the quotes). If your algorithm finds less than 5 SCCs, then write 0 for the remaining terms. Thus, if your algorithm computes only 3 SCCs whose sizes are 400, 300, and 100, then your answer should be \"400,300,100,0,0\" (without the quotes). (Note also that your answer should not have any spaces in it.)\n",
    "\n",
    "WARNING: This is the most challenging programming assignment of the course. Because of the size of the graph you may have to manage memory carefully. The best way to do this depends on your programming language and environment, and we strongly suggest that you exchange tips for doing this on the discussion forums."
   ]
  },
  {
   "cell_type": "code",
   "execution_count": 1,
   "metadata": {
    "collapsed": false
   },
   "outputs": [],
   "source": [
    "# Read from the file assuming that the nodes are sorted\n",
    "def read_graph(filename):\n",
    "    G = {1: []}\n",
    "    s0 = 1\n",
    "    for line in open(filename, 'r'):\n",
    "        ls = line.split()\n",
    "        if len(ls) == 1:\n",
    "            G[int(ls[0])] = []\n",
    "        else:\n",
    "            s, f = ls\n",
    "            s, f = int(s), int(f)\n",
    "            if s != s0:\n",
    "                G[s] = [f]\n",
    "                s0 = s\n",
    "            else:\n",
    "                G[s].append(f)\n",
    "    return G"
   ]
  },
  {
   "cell_type": "code",
   "execution_count": 2,
   "metadata": {
    "collapsed": true
   },
   "outputs": [],
   "source": [
    "# Recursive version of DFS\n",
    "def DFS(G, s, explored=None, current_label=None):\n",
    "    if explored == None:\n",
    "        explored = set()\n",
    "    explored.add(s)\n",
    "    for v in G[s]:\n",
    "        if v not in explored:\n",
    "            current_label = DFS(G, v, explored, current_label)\n",
    "            \n",
    "    if current_label != None:\n",
    "        print \"Ordering of {0}: {1}\".format(s, current_label)\n",
    "        current_label -= 1\n",
    "        return current_label"
   ]
  },
  {
   "cell_type": "code",
   "execution_count": 3,
   "metadata": {
    "collapsed": true
   },
   "outputs": [],
   "source": [
    "# Topological ordering\n",
    "def topological_ordering(G):\n",
    "    explored = set()\n",
    "    current_label = len(G)\n",
    "    for node in G.keys():\n",
    "        if node not in explored:\n",
    "            DFS(G, node, explored, current_label)"
   ]
  },
  {
   "cell_type": "code",
   "execution_count": 4,
   "metadata": {
    "collapsed": false
   },
   "outputs": [
    {
     "name": "stdout",
     "output_type": "stream",
     "text": [
      "{1: [2, 3], 2: [4], 3: [4], 4: []}\n",
      "Ordering of 4: 4\n",
      "Ordering of 2: 3\n",
      "Ordering of 3: 2\n",
      "Ordering of 1: 1\n"
     ]
    }
   ],
   "source": [
    "filename = \"ordering_test.txt\"\n",
    "graph = read_graph(filename)\n",
    "print graph\n",
    "\n",
    "topological_ordering(graph)"
   ]
  },
  {
   "cell_type": "markdown",
   "metadata": {},
   "source": [
    "# Strongly connected components via Kosaraju's alorithm\n",
    "\n",
    "```python\n",
    "def Kosaraju(G):\n",
    "  1. Compute reverse graph Grev\n",
    "  2. a. Run depth-first search (DFS) loop (DFS_Loop) on Grev\n",
    "     b. Record finishing time on each node\n",
    "  3. Run DFS_Loop on G starting from nodes with large finishing time\n",
    "  4. SCCs are the nodes with the same leaders\n",
    "```\n",
    "\n",
    "```python\n",
    "def DFS_Loop(G):\n",
    "  Global t # count finishing time\n",
    "  Global s # leader of the SCC\n",
    "  for i in range(n, 0, -1):\n",
    "    if i not in explored:\n",
    "      s = i\n",
    "      DFS(G, i)\n",
    "```\n",
    "\n",
    "```python\n",
    "def DFS(G, i):\n",
    "  explored.add(i)\n",
    "  leader[i] = s\n",
    "  for edge(i, j) in G:\n",
    "    if j not in explored:\n",
    "      DFS(G, j)\n",
    "  t += 1\n",
    "  finishing_time[i] = t\n",
    "```"
   ]
  },
  {
   "cell_type": "code",
   "execution_count": 5,
   "metadata": {
    "collapsed": true
   },
   "outputs": [],
   "source": [
    "DEBUG = True\n",
    "\n",
    "# Generate graph and reverse graph (we need the maximum number of nodes)\n",
    "def read_graph(filename, n):\n",
    "    G, Grev = {}, {}\n",
    "    for i in range(1, n + 1):\n",
    "        G[i] = []\n",
    "        Grev[i] = []\n",
    "    \n",
    "    for line in open(filename, 'r'):\n",
    "        s, f = line.split()\n",
    "        s, f = int(s), int(f)\n",
    "        G[s].append(f)\n",
    "        Grev[f].append(s)\n",
    "    \n",
    "    if n != max(G.keys()):\n",
    "        raise ValueError(\"Number of nodes does not match.\")\n",
    "    \n",
    "    if DEBUG:\n",
    "        print \"Graph from file {0}\".format(filename)\n",
    "        print G\n",
    "        print \"Reversed graph from file {0}\".format(filename)\n",
    "        print Grev\n",
    "    \n",
    "    return G, Grev\n",
    "\n",
    "# Kosaraju's two-pass algorithm\n",
    "def Kosaraju(G, Grev, n):\n",
    "    # run the 1st DFS_Loop on Grev\n",
    "    finishing_time = DFS_Loop(Grev, n)\n",
    "    if DEBUG:\n",
    "        print \"Finishing time from Grev\"\n",
    "        print finishing_time\n",
    "    \n",
    "    # determine ordering for the 2nd DFS_Loop\n",
    "    ordering = [0] * n\n",
    "    for k, v in finishing_time.iteritems():\n",
    "        ordering[n - v] = k\n",
    "    \n",
    "    # run the 2nd DFS_Loop\n",
    "    leaders = {}\n",
    "    DFS_Loop(G, n, ordering, leaders)\n",
    "    if DEBUG:\n",
    "        print \"Leaders\"\n",
    "        print leaders\n",
    "    \n",
    "    return leaders\n",
    "\n",
    "# DFS-Loop\n",
    "def DFS_Loop(G, n, ordering=None, leaders=None):\n",
    "    global t, s\n",
    "    t = 0\n",
    "    s = None\n",
    "    explored = set()\n",
    "    finishing_time = {}\n",
    "    if ordering == None:\n",
    "        ordering = range(n, 0, -1)\n",
    "    \n",
    "    for i in ordering:\n",
    "        if i not in explored:\n",
    "            s = i\n",
    "            DFS(G, i, explored, finishing_time, leaders)\n",
    "    \n",
    "    return finishing_time\n",
    "\n",
    "# DFS with finishing time\n",
    "def DFS(G, i, explored=None, finishing_time=None, leaders=None):\n",
    "    global t, s\n",
    "    if explored == None:\n",
    "        explored = set()\n",
    "    if finishing_time == None:\n",
    "        finishing_time = {}\n",
    "    \n",
    "    explored.add(i)\n",
    "    \n",
    "    if leaders != None:\n",
    "        leaders[i] = s\n",
    "\n",
    "    for j in G[i]:\n",
    "        if j not in explored:\n",
    "            time = DFS(G, j, explored, finishing_time, leaders)\n",
    "    t += 1\n",
    "    finishing_time[i] = t\n",
    "    return\n",
    "\n",
    "# find the five largest SCCs\n",
    "def find_large_SCC(leaders, n=5):\n",
    "    counts = {}\n",
    "    for i, l in leaders.iteritems():\n",
    "        counts[l] = []\n",
    "    for i, l in leaders.iteritems():\n",
    "        counts[l].append(i)\n",
    "    if DEBUG:\n",
    "        print \"SCCs\"\n",
    "        print counts\n",
    "    \n",
    "    biggest = [0] * n\n",
    "    for l, scc in counts.iteritems():\n",
    "        size = len(scc)\n",
    "        if biggest[n - 1] < size:\n",
    "            biggest[n - 1] = size\n",
    "            biggest = sorted(biggest, reverse=True)\n",
    "    return biggest"
   ]
  },
  {
   "cell_type": "code",
   "execution_count": 6,
   "metadata": {
    "collapsed": false
   },
   "outputs": [
    {
     "name": "stdout",
     "output_type": "stream",
     "text": [
      "Graph from file test1.txt\n",
      "{1: [4], 2: [8], 3: [6], 4: [7], 5: [2], 6: [9], 7: [1], 8: [5, 6], 9: [7, 3]}\n",
      "Reversed graph from file test1.txt\n",
      "{1: [7], 2: [5], 3: [9], 4: [1], 5: [8], 6: [3, 8], 7: [4, 9], 8: [2], 9: [6]}\n",
      "Finishing time from Grev\n",
      "{1: 7, 2: 3, 3: 1, 4: 8, 5: 2, 6: 5, 7: 9, 8: 4, 9: 6}\n",
      "Leaders\n",
      "{1: 7, 2: 8, 3: 9, 4: 7, 5: 8, 6: 9, 7: 7, 8: 8, 9: 9}\n",
      "SCCs\n",
      "{8: [2, 5, 8], 9: [3, 6, 9], 7: [1, 4, 7]}\n",
      "[3, 3, 3, 0, 0]\n",
      "Graph from file test2.txt\n",
      "{1: [2], 2: [3, 4, 5], 3: [6], 4: [5, 7], 5: [2, 6, 7], 6: [3, 8], 7: [8, 10], 8: [7], 9: [7], 10: [9, 11], 11: [12], 12: [10]}\n",
      "Reversed graph from file test2.txt\n",
      "{1: [], 2: [1, 5], 3: [2, 6], 4: [2], 5: [2, 4], 6: [3, 5], 7: [4, 5, 8, 9], 8: [6, 7], 9: [10], 10: [7, 12], 11: [10], 12: [11]}\n",
      "Finishing time from Grev\n",
      "{1: 1, 2: 3, 3: 5, 4: 4, 5: 2, 6: 6, 7: 9, 8: 7, 9: 8, 10: 10, 11: 11, 12: 12}\n",
      "Leaders\n",
      "{1: 1, 2: 4, 3: 6, 4: 4, 5: 4, 6: 6, 7: 12, 8: 12, 9: 12, 10: 12, 11: 12, 12: 12}\n",
      "SCCs\n",
      "{1: [1], 4: [2, 4, 5], 6: [3, 6], 12: [7, 8, 9, 10, 11, 12]}\n",
      "[6, 3, 2, 1, 0]\n"
     ]
    }
   ],
   "source": [
    "DEBUG = True\n",
    "\n",
    "filename = \"test1.txt\"\n",
    "n = 9\n",
    "g, gr = read_graph(filename, n)\n",
    "leaders = Kosaraju(g, gr, n)\n",
    "print find_large_SCC(leaders)\n",
    "\n",
    "filename = \"test2.txt\"\n",
    "n = 12\n",
    "g, gr = read_graph(filename, n)\n",
    "leaders = Kosaraju(g, gr, n)\n",
    "print find_large_SCC(leaders)"
   ]
  },
  {
   "cell_type": "code",
   "execution_count": 7,
   "metadata": {
    "collapsed": false
   },
   "outputs": [
    {
     "name": "stdout",
     "output_type": "stream",
     "text": [
      "(8388608, 67104768)\n",
      "(9223372036854775807, 9223372036854775807)\n"
     ]
    }
   ],
   "source": [
    "# check resources\n",
    "import resource\n",
    "print resource.getrlimit(resource.RLIMIT_STACK)\n",
    "print resource.getrlimit(resource.RLIMIT_DATA)"
   ]
  },
  {
   "cell_type": "code",
   "execution_count": 8,
   "metadata": {
    "collapsed": false
   },
   "outputs": [
    {
     "name": "stdout",
     "output_type": "stream",
     "text": [
      "Read graph from file : 14.8 seconds\n",
      "Perform Kosaraju : 6.48 seconds\n",
      "Count SCCs : 1.48 seconds\n"
     ]
    }
   ],
   "source": [
    "import sys\n",
    "sys.setrecursionlimit(2 ** 20)\n",
    "hardlimit = resource.getrlimit(resource.RLIMIT_STACK)[1]\n",
    "resource.setrlimit(resource.RLIMIT_STACK, (hardlimit, hardlimit))\n",
    "\n",
    "# timer grabbed from \n",
    "# https://stackoverflow.com/questions/7370801/measure-time-elapsed-in-python\n",
    "from timeit import default_timer as timer\n",
    "class benchmark(object):\n",
    "    def __init__(self, msg, fmt=\"%0.3g\"):\n",
    "        self.msg = msg\n",
    "        self.fmt = fmt\n",
    "\n",
    "    def __enter__(self):\n",
    "        self.start = timer()\n",
    "        return self\n",
    "\n",
    "    def __exit__(self, *args):\n",
    "        t = timer() - self.start\n",
    "        print((\"%s : \" + self.fmt + \" seconds\") % (self.msg, t))\n",
    "        self.time = t\n",
    "\n",
    "DEBUG = False\n",
    "filename = \"SCC.txt\"\n",
    "n = 875714\n",
    "\n",
    "with benchmark(\"Read graph from file\") as r:\n",
    "    g, gr = read_graph(filename, n)\n",
    "\n",
    "with benchmark(\"Perform Kosaraju\") as k:\n",
    "    leaders = Kosaraju(g, gr, n)\n",
    "\n",
    "with benchmark(\"Count SCCs\") as c:\n",
    "    biggest = find_large_SCC(leaders)\n",
    "\n",
    "print biggest"
   ]
  },
  {
   "cell_type": "code",
   "execution_count": null,
   "metadata": {
    "collapsed": true
   },
   "outputs": [],
   "source": []
  }
 ],
 "metadata": {
  "anaconda-cloud": {},
  "kernelspec": {
   "display_name": "Python [conda root]",
   "language": "python",
   "name": "conda-root-py"
  },
  "language_info": {
   "codemirror_mode": {
    "name": "ipython",
    "version": 2
   },
   "file_extension": ".py",
   "mimetype": "text/x-python",
   "name": "python",
   "nbconvert_exporter": "python",
   "pygments_lexer": "ipython2",
   "version": "2.7.12"
  }
 },
 "nbformat": 4,
 "nbformat_minor": 1
}
