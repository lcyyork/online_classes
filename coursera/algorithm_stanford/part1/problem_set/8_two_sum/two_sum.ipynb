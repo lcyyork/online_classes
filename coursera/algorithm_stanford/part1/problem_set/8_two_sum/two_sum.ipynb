{
 "cells": [
  {
   "cell_type": "markdown",
   "metadata": {},
   "source": [
    "The goal of this problem is to implement a variant of the 2-SUM algorithm covered in this week's lectures.\n",
    "\n",
    "The file contains 1 million integers, both positive and negative (there might be some repetitions!).This is your array of integers, with the ith row of the file specifying the ith entry of the array.\n",
    "\n",
    "Your task is to compute the number of target values t in the interval [-10000,10000] (inclusive) such that there are distinct numbers x,y in the input file that satisfy x+y=t. (NOTE: ensuring distinctness requires a one-line addition to the algorithm from lecture.)\n",
    "\n",
    "Write your numeric answer (an integer between 0 and 20001) in the space provided.\n",
    "\n",
    "OPTIONAL CHALLENGE: If this problem is too easy for you, try implementing your own hash table for it. For example, you could compare performance under the chaining and open addressing approaches to resolving collisions."
   ]
  },
  {
   "cell_type": "code",
   "execution_count": 1,
   "metadata": {
    "collapsed": true
   },
   "outputs": [],
   "source": [
    "# timer grabbed from \n",
    "# https://stackoverflow.com/questions/7370801/measure-time-elapsed-in-python\n",
    "from timeit import default_timer as timer\n",
    "class benchmark(object):\n",
    "    def __init__(self, msg, fmt=\"%0.3g\"):\n",
    "        self.msg = msg\n",
    "        self.fmt = fmt\n",
    "\n",
    "    def __enter__(self):\n",
    "        self.start = timer()\n",
    "        return self\n",
    "\n",
    "    def __exit__(self, *args):\n",
    "        t = timer() - self.start\n",
    "        print((\"%s : \" + self.fmt + \" seconds\") % (self.msg, t))\n",
    "        self.time = t"
   ]
  },
  {
   "cell_type": "code",
   "execution_count": 2,
   "metadata": {
    "collapsed": true
   },
   "outputs": [],
   "source": [
    "# Note: we are asked to compute the possible t such that x + y = t.\n",
    "# Thus, as long as we find a (x, y) pair that x != y, we can terminate and increase count by 1.\n",
    "# We do NOT need to find all possible pairs!\n",
    "\n",
    "# modified from https://stackoverflow.com/questions/30021060/two-sum-on-leetcode\n",
    "def two_sum(array, target):\n",
    "    H = {}\n",
    "    count = 0\n",
    "    for i, v in enumerate(array):\n",
    "        try:\n",
    "            n = H[v]\n",
    "            if v != target - v:\n",
    "                if DEBUG > 1:\n",
    "                    print v, target - v\n",
    "                return True\n",
    "        except:\n",
    "            H[target - v] = i\n",
    "#             H.setdefault(target - v, i)\n",
    "    return False\n",
    "\n",
    "\n",
    "def find_2sum_in_range(array, lower_bound, upper_bound):\n",
    "    global count\n",
    "    count = 0\n",
    "    for t in range(lower_bound, upper_bound + 1):\n",
    "        print \"Working on t = {0}\".format(t)\n",
    "        found = two_sum(array, t)\n",
    "        if found:\n",
    "            count += 1\n",
    "            if DEBUG > 0:\n",
    "                print \"Possible for t = {0}\".format(t)\n",
    "    print \"Total number of possible t: {0}\\n\".format(count)"
   ]
  },
  {
   "cell_type": "code",
   "execution_count": 3,
   "metadata": {
    "collapsed": false
   },
   "outputs": [
    {
     "name": "stdout",
     "output_type": "stream",
     "text": [
      "Working on t = 3\n",
      "2 1\n",
      "Possible for t = 3\n",
      "Working on t = 4\n",
      "7 -3\n",
      "Possible for t = 4\n",
      "Working on t = 5\n",
      "6 -1\n",
      "Possible for t = 5\n",
      "Working on t = 6\n",
      "9 -3\n",
      "Possible for t = 6\n",
      "Working on t = 7\n",
      "6 1\n",
      "Possible for t = 7\n",
      "Working on t = 8\n",
      "9 -1\n",
      "Possible for t = 8\n",
      "Working on t = 9\n",
      "7 2\n",
      "Possible for t = 9\n",
      "Working on t = 10\n",
      "9 1\n",
      "Possible for t = 10\n",
      "Total number of possible t: 8\n",
      "\n",
      "Working on t = 0\n",
      "Working on t = 1\n",
      "Working on t = 2\n",
      "4 -2\n",
      "Possible for t = 2\n",
      "Working on t = 3\n",
      "Working on t = 4\n",
      "4 0\n",
      "Possible for t = 4\n",
      "Total number of possible t: 2\n",
      "\n"
     ]
    }
   ],
   "source": [
    "DEBUG = 2\n",
    "\n",
    "test1 = (-3,-1,1,2,9,11,7,6,2)\n",
    "find_2sum_in_range(test1, 3, 10)\n",
    "\n",
    "test2 = [-2,0,0,4]\n",
    "find_2sum_in_range(test2, 0, 4)"
   ]
  },
  {
   "cell_type": "code",
   "execution_count": 4,
   "metadata": {
    "collapsed": true
   },
   "outputs": [],
   "source": [
    "# Since we do not care all possible pairs of (x, y) for a given target t,\n",
    "# we can load the data to a set.\n",
    "\n",
    "def find_2sum(H, target):\n",
    "    for i in H:\n",
    "        lookup = target - i\n",
    "        if lookup == i:\n",
    "            continue\n",
    "        if lookup in H:\n",
    "            if DEBUG > 1:\n",
    "                print i, lookup\n",
    "            return True\n",
    "    return False\n",
    "\n",
    "def find_2sum_in_range_from_file(filename, lower_bound, upper_bound):\n",
    "    H = set()\n",
    "    for line in open(filename, 'r'):\n",
    "        H.add(int(line.strip()))\n",
    "    \n",
    "    count = 0\n",
    "    for t in range(lower_bound, upper_bound + 1):\n",
    "        if DEBUG > 1:\n",
    "            print \"Working on t = {0}\".format(t)\n",
    "        \n",
    "        found = find_2sum(H, t)\n",
    "        if found:\n",
    "            count += 1\n",
    "            if DEBUG > 0:\n",
    "                print \"Possible for t = {0}\".format(t)\n",
    "    print \"Total number of possible t: {0}\".format(count)\n",
    "    return"
   ]
  },
  {
   "cell_type": "code",
   "execution_count": 5,
   "metadata": {
    "collapsed": false
   },
   "outputs": [
    {
     "name": "stdout",
     "output_type": "stream",
     "text": [
      "Working on t = 3\n",
      "1 2\n",
      "Possible for t = 3\n",
      "Working on t = 4\n",
      "7 -3\n",
      "Possible for t = 4\n",
      "Working on t = 5\n",
      "6 -1\n",
      "Possible for t = 5\n",
      "Working on t = 6\n",
      "7 -1\n",
      "Possible for t = 6\n",
      "Working on t = 7\n",
      "1 6\n",
      "Possible for t = 7\n",
      "Working on t = 8\n",
      "1 7\n",
      "Possible for t = 8\n",
      "Working on t = 9\n",
      "2 7\n",
      "Possible for t = 9\n",
      "Working on t = 10\n",
      "1 9\n",
      "Possible for t = 10\n",
      "Total number of possible t: 8\n"
     ]
    }
   ],
   "source": [
    "find_2sum_in_range_from_file(\"test1.txt\", 3, 10)"
   ]
  },
  {
   "cell_type": "code",
   "execution_count": 6,
   "metadata": {
    "collapsed": false,
    "scrolled": false
   },
   "outputs": [
    {
     "name": "stdout",
     "output_type": "stream",
     "text": [
      "Possible for t = -9967\n",
      "Possible for t = -9966\n",
      "Total number of possible t: 2\n",
      "Hash implementation O[n * m] : 53.5 seconds\n"
     ]
    }
   ],
   "source": [
    "DEBUG = 1\n",
    "with benchmark(\"Hash implementation O[n * m]\") as r:\n",
    "    find_2sum_in_range_from_file(\"2sum.txt\", -10000, -9900)"
   ]
  },
  {
   "cell_type": "markdown",
   "metadata": {},
   "source": [
    "# Notes\n",
    "\n",
    "For this perticular example, it is more efficient to use sorted array as described in __[this excellent discussion](https://www.coursera.org/learn/algorithms-graphs-data-structures/discussions/weeks/4/threads/oDdtZLcSEeaYHgpNzSKpMA)__.\n",
    "\n",
    "The procedures are described as follows:<br>\n",
    "Assume $n$ is the number of items in array $\\cal A$ and $m$ is the size of $\\cal T$ range (in this case ${\\cal T} = [-10^5, 10^5]$).\n",
    "\n",
    "1. Sort the array $\\cal A$ using ${\\cal O}[n \\log(n)]$ time.\n",
    "\n",
    "2. For each item $x_i \\in {\\cal A}, \\, i=0,1,\\dots,n-1$, locate a subarray of $\\cal A$ that contains the admissible $y$ values $y_j, \\, j = 0,1,\\dots,c_i$ such that $\\forall j$, $x_i + y_j \\in {\\cal T}$.\n",
    "  - we need $t_{\\rm low} \\leq x_i + y_j \\leq t_{\\rm high}$, hence $t_{\\rm low} - x_i \\leq y_j \\leq t_{\\rm high} - x_i$.\n",
    "  - Let's call this range ${\\cal Y_i} = [t_{\\rm low} - x_i, t_{\\rm high} - x_i] = y_0, y_1, \\dots, y_{c_i}$, which takes $2 \\log(n)$ time using binary search.\n",
    "  - We can add $x_i$ to all $y_j$ to obtain ${\\cal C_i} = t_0, t_1, \\dots, t_{c_i}$. Statistically, let's assume the average length of ${\\cal C_i}, \\, i = 0,1,\\dots,n-1$ is $c$.\n",
    "  - Collectively, the whole step is ${\\cal O} [n \\log(n)]$.\n",
    "\n",
    "3. From step 2, we obtain a list of ${\\cal C}_0, {\\cal C}_1, \\dots, {\\cal C}_{n-1}$, where each ${\\cal C}_i$ is a subset of $\\cal T$. The cost to count distinct values $t_i$ of all ${\\cal C}_i$ is ${\\cal O}[nc \\log(nc)] \\sim {\\cal O}[nc \\log(n)]$ since $c \\leq m = {\\cal O}(n)$ hence ${\\cal O}[\\log(nc)] = {\\cal O}[\\log(n)]$, where $c$ is the average length of the admissible sublists. The cost might be reduced ${\\cal O}(nc)$ if we use a hash table for marking the $t_i$ that was summed up by any found $(x,y)$ pair.\n",
    "\n",
    "Thus the asympotic running time of sorted array implementation is ${\\cal O}[nc \\log(n)]$, while the hash table implementation is ${\\cal O}[nm]$.\n",
    "As tested in this perticular case, $c \\leq 10$ with $m = 2\\times10^5 + 1$ and $n = 10^6$, it is better to use sorted array."
   ]
  },
  {
   "cell_type": "code",
   "execution_count": 7,
   "metadata": {
    "collapsed": true
   },
   "outputs": [],
   "source": [
    "def count_2sum_in_range_from_file(filename, lower, upper):\n",
    "    # load data to an array and sort it\n",
    "    data = [int(i.strip()) for i in open(filename, 'r')]\n",
    "    data.sort()\n",
    "    \n",
    "    if DEBUG > 2:\n",
    "        print data[:10] # just the first ten\n",
    "    \n",
    "    # find possible t values\n",
    "    T = set()\n",
    "    for v in data:\n",
    "        if DEBUG > 1:\n",
    "            print \"Checking data value {0:15d}\".format(v)\n",
    "        \n",
    "        l, u = lower - v, upper - v\n",
    "        il = binary_search(data, l)\n",
    "        iu = binary_search(data, u, left=False)\n",
    "        C = [i + v for i in data[il : iu]]\n",
    "        for t in C:\n",
    "            T.add(t)\n",
    "            if DEBUG > 1:\n",
    "                print \"sum = {0:6d} is possible.\".format(t)\n",
    "    \n",
    "    # return counts for possible t values\n",
    "    lt = len(T)\n",
    "    print \"Total number of possible t: {0}\".format(lt)\n",
    "    \n",
    "    return lt\n",
    "\n",
    "from bisect import bisect_left, bisect_right\n",
    "def binary_search(array, x, left=True):\n",
    "    \"\"\" Perform binary search of a sorted array and return the index i.\n",
    "    left - True:  left half = all(val < x for val in a[lo:i])\n",
    "           False: left half = all(val <= x for val in a[lo:i])\n",
    "    \"\"\"\n",
    "    \n",
    "    i = None\n",
    "    if left:\n",
    "        i = bisect_left(array, x)\n",
    "    else:\n",
    "        i = bisect_right(array, x)\n",
    "    return i"
   ]
  },
  {
   "cell_type": "code",
   "execution_count": 8,
   "metadata": {
    "collapsed": false
   },
   "outputs": [
    {
     "name": "stdout",
     "output_type": "stream",
     "text": [
      "[-3, -1, 1, 2, 2, 6, 7, 9, 11]\n",
      "Checking data value              -3\n",
      "sum =      3 is possible.\n",
      "sum =      4 is possible.\n",
      "sum =      6 is possible.\n",
      "sum =      8 is possible.\n",
      "Checking data value              -1\n",
      "sum =      5 is possible.\n",
      "sum =      6 is possible.\n",
      "sum =      8 is possible.\n",
      "sum =     10 is possible.\n",
      "Checking data value               1\n",
      "sum =      3 is possible.\n",
      "sum =      3 is possible.\n",
      "sum =      7 is possible.\n",
      "sum =      8 is possible.\n",
      "sum =     10 is possible.\n",
      "Checking data value               2\n",
      "sum =      3 is possible.\n",
      "sum =      4 is possible.\n",
      "sum =      4 is possible.\n",
      "sum =      8 is possible.\n",
      "sum =      9 is possible.\n",
      "Checking data value               2\n",
      "sum =      3 is possible.\n",
      "sum =      4 is possible.\n",
      "sum =      4 is possible.\n",
      "sum =      8 is possible.\n",
      "sum =      9 is possible.\n",
      "Checking data value               6\n",
      "sum =      3 is possible.\n",
      "sum =      5 is possible.\n",
      "sum =      7 is possible.\n",
      "sum =      8 is possible.\n",
      "sum =      8 is possible.\n",
      "Checking data value               7\n",
      "sum =      4 is possible.\n",
      "sum =      6 is possible.\n",
      "sum =      8 is possible.\n",
      "sum =      9 is possible.\n",
      "sum =      9 is possible.\n",
      "Checking data value               9\n",
      "sum =      6 is possible.\n",
      "sum =      8 is possible.\n",
      "sum =     10 is possible.\n",
      "Checking data value              11\n",
      "sum =      8 is possible.\n",
      "sum =     10 is possible.\n",
      "Total number of possible t: 8\n"
     ]
    },
    {
     "data": {
      "text/plain": [
       "8"
      ]
     },
     "execution_count": 8,
     "metadata": {},
     "output_type": "execute_result"
    }
   ],
   "source": [
    "DEBUG = 3\n",
    "count_2sum_in_range_from_file('test1.txt', 3, 10)"
   ]
  },
  {
   "cell_type": "code",
   "execution_count": 9,
   "metadata": {
    "collapsed": false
   },
   "outputs": [
    {
     "name": "stdout",
     "output_type": "stream",
     "text": [
      "Total number of possible t: 2\n",
      "Array implementation O[n * c * log(n)] : 5.31 seconds\n"
     ]
    }
   ],
   "source": [
    "DEBUG = 0\n",
    "with benchmark(\"Array implementation O[n * c * log(n)]\") as r:\n",
    "    count_2sum_in_range_from_file(\"2sum.txt\", -10000, -9900)"
   ]
  },
  {
   "cell_type": "code",
   "execution_count": null,
   "metadata": {
    "collapsed": true
   },
   "outputs": [],
   "source": []
  }
 ],
 "metadata": {
  "anaconda-cloud": {},
  "kernelspec": {
   "display_name": "Python [conda root]",
   "language": "python",
   "name": "conda-root-py"
  },
  "language_info": {
   "codemirror_mode": {
    "name": "ipython",
    "version": 2
   },
   "file_extension": ".py",
   "mimetype": "text/x-python",
   "name": "python",
   "nbconvert_exporter": "python",
   "pygments_lexer": "ipython2",
   "version": "2.7.12"
  }
 },
 "nbformat": 4,
 "nbformat_minor": 1
}
