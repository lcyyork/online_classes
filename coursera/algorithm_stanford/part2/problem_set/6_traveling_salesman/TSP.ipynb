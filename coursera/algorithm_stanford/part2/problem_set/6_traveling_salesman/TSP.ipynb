{
 "cells": [
  {
   "cell_type": "markdown",
   "metadata": {},
   "source": [
    "# Problem\n",
    "\n",
    "In this assignment you will implement one or more algorithms for the traveling salesman problem, such as the dynamic programming algorithm covered in the video lectures.\n",
    "Here is a data file describing a TSP instance.\n",
    "- tsp.txt\n",
    "\n",
    "The first line indicates the number of cities.\n",
    "Each city is a point in the plane, and each subsequent line indicates the x- and y-coordinates of a single city.\n",
    "\n",
    "The distance between two cities is defined as the Euclidean distance --- that is, two cities at locations $(x,y)$ and $(z,w)$ have distance $\\sqrt{(x - z)^2 + (y - w)^2}$ between them.\n",
    "\n",
    "In the box below, type in the minimum cost of a traveling salesman tour for this instance, rounded down to the nearest integer.\n",
    "\n",
    "OPTIONAL: If you want bigger data sets to play with, check out the TSP instances from around the world [here](http://www.math.uwaterloo.ca/tsp/world/countries.html).\n",
    "The smallest data set (Western Sahara) has 29 cities, and most of the data sets are much bigger than that.\n",
    "What's the largest of these data sets that you're able to solve --- using dynamic programming or, if you like, a completely different method?\n",
    "\n",
    "HINT: You might experiment with ways to reduce the data set size.\n",
    "For example, trying plotting the points.\n",
    "Can you infer any structure of the optimal solution?\n",
    "Can you use that structure to speed up your algorithm?"
   ]
  },
  {
   "cell_type": "code",
   "execution_count": 1,
   "metadata": {},
   "outputs": [
    {
     "data": {
      "image/png": "[encoded data removed]",
      "text/plain": [
       "<matplotlib.figure.Figure at 0x10f7c27d0>"
      ]
     },
     "metadata": {},
     "output_type": "display_data"
    }
   ],
   "source": [
    "import matplotlib.pyplot as plt\n",
    "%matplotlib inline\n",
    "\n",
    "def plot_cities(filename):\n",
    "    ncities = 0\n",
    "    X, Y = [], []\n",
    "    for n, line in enumerate(open(filename)):\n",
    "        if n == 0:\n",
    "            ncities = int(line[0])\n",
    "        else:\n",
    "            x, y = map(float, line.split())\n",
    "            X.append(x)\n",
    "            Y.append(y)\n",
    "    \n",
    "    plt.scatter(X, Y)\n",
    "    plt.show()\n",
    "    \n",
    "    return ncities, X, Y\n",
    "\n",
    "n, X, Y = plot_cities(\"tsp.txt\")"
   ]
  },
  {
   "cell_type": "code",
   "execution_count": null,
   "metadata": {
    "collapsed": true
   },
   "outputs": [],
   "source": []
  }
 ],
 "metadata": {
  "anaconda-cloud": {},
  "kernelspec": {
   "display_name": "Python [conda root]",
   "language": "python",
   "name": "conda-root-py"
  },
  "language_info": {
   "codemirror_mode": {
    "name": "ipython",
    "version": 2
   },
   "file_extension": ".py",
   "mimetype": "text/x-python",
   "name": "python",
   "nbconvert_exporter": "python",
   "pygments_lexer": "ipython2",
   "version": "2.7.14"
  }
 },
 "nbformat": 4,
 "nbformat_minor": 2
}
