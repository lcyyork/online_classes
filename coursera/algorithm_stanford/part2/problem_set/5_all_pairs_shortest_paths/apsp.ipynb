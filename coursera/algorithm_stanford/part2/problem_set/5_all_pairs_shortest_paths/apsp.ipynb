{
 "cells": [
  {
   "cell_type": "markdown",
   "metadata": {},
   "source": [
    "In this assignment you will implement one or more algorithms for the all-pairs shortest-path problem. Here are data files describing three graphs:\n",
    "- g1.txt\n",
    "- g2.txt\n",
    "- g3.txt\n",
    "\n",
    "The first line indicates the number of vertices and edges, respectively. Each subsequent line describes an edge (the first two numbers are its tail and head, respectively) and its length (the third number). NOTE: some of the edge lengths are negative. NOTE: These graphs may or may not have negative-cost cycles.\n",
    "\n",
    "Your task is to compute the \"shortest shortest path\". Precisely, you must first identify which, if any, of the three graphs have no negative cycles. For each such graph, you should compute all-pairs shortest paths and remember the smallest one [i.e., compute $\\min_{u,v \\in V} d(u,v)$, where $d(u,v)$ denotes the shortest-path distance from $u$ to $v$].\n",
    "\n",
    "If each of the three graphs has a negative-cost cycle, then enter \"NULL\" in the box below. If exactly one graph has no negative-cost cycles, then enter the length of its shortest shortest path in the box below. If two or more of the graphs have no negative-cost cycles, then enter the smallest of the lengths of their shortest shortest paths in the box below.\n",
    "\n",
    "OPTIONAL: You can use whatever algorithm you like to solve this question. If you have extra time, try comparing the performance of different all-pairs shortest-path algorithms!\n",
    "\n",
    "OPTIONAL: Here is a bigger data set to play with.\n",
    "- large.txt\n",
    "\n",
    "For fun, try computing the shortest shortest path of the graph in the file above."
   ]
  },
  {
   "cell_type": "code",
   "execution_count": null,
   "metadata": {
    "collapsed": true
   },
   "outputs": [],
   "source": []
  }
 ],
 "metadata": {
  "anaconda-cloud": {},
  "kernelspec": {
   "display_name": "Python [conda root]",
   "language": "python",
   "name": "conda-root-py"
  },
  "language_info": {
   "codemirror_mode": {
    "name": "ipython",
    "version": 2
   },
   "file_extension": ".py",
   "mimetype": "text/x-python",
   "name": "python",
   "nbconvert_exporter": "python",
   "pygments_lexer": "ipython2",
   "version": "2.7.14"
  }
 },
 "nbformat": 4,
 "nbformat_minor": 2
}
