{
 "cells": [
  {
   "cell_type": "markdown",
   "metadata": {},
   "source": [
    "**Greedy Algorithms for Minimizing the Weighted Sum of Completion Times**\n",
    "\n",
    "This file describes a set of jobs with positive and integral weights and lengths. It has the format\n",
    "\n",
    "[number_of_jobs]\n",
    "\n",
    "[job_1_weight] [job_1_length]\n",
    "\n",
    "[job_2_weight] [job_2_length]\n",
    "\n",
    "...\n",
    "\n",
    "For example, the third line of the file is \"74 59\", indicating that the second job has weight 74 and length 59.\n",
    "\n",
    "You should NOT assume that edge weights or lengths are distinct."
   ]
  },
  {
   "cell_type": "code",
   "execution_count": 1,
   "metadata": {
    "collapsed": true
   },
   "outputs": [],
   "source": [
    "def load_file(filename):\n",
    "    data = []\n",
    "    for line in open(filename, 'r'):\n",
    "        try:\n",
    "            int(line)\n",
    "        except ValueError:\n",
    "            data.append([int(i) for i in line.split()])\n",
    "    \n",
    "    if DEBUG > 1:\n",
    "        print data\n",
    "    \n",
    "    return data"
   ]
  },
  {
   "cell_type": "markdown",
   "metadata": {},
   "source": [
    "**Problem 1**\n",
    "Your task in this problem is to run the greedy algorithm that schedules jobs in decreasing order of the difference (weight - length). Recall from lecture that this algorithm is not always optimal. IMPORTANT: if two jobs have equal difference (weight - length), you should schedule the job with higher weight first. Beware: if you break ties in a different way, you are likely to get the wrong answer. You should report the sum of weighted completion times of the resulting schedule --- a positive integer --- in the box below.\n",
    "\n",
    "ADVICE: If you get the wrong answer, try out some small test cases to debug your algorithm (and post your test cases to the discussion forum)."
   ]
  },
  {
   "cell_type": "code",
   "execution_count": 2,
   "metadata": {
    "collapsed": true
   },
   "outputs": [],
   "source": [
    "def schedule_diff(datalist):\n",
    "    datasorted = sorted(datalist, key = lambda x: (x[0] - x[1], x[0]),\n",
    "                        reverse=True)\n",
    "    if DEBUG > 1:\n",
    "        print datasorted\n",
    "    \n",
    "    complete = 0\n",
    "    total = 0\n",
    "    for w, l in datasorted:\n",
    "        complete += l\n",
    "        total += w * complete\n",
    "    return total"
   ]
  },
  {
   "cell_type": "markdown",
   "metadata": {},
   "source": [
    "**Problem 2**\n",
    "Your task now is to run the greedy algorithm that schedules jobs (optimally) in decreasing order of the ratio (weight/length). In this algorithm, it does not matter how you break ties. You should report the sum of weighted completion times of the resulting schedule --- a positive integer --- in the box below."
   ]
  },
  {
   "cell_type": "code",
   "execution_count": 3,
   "metadata": {
    "collapsed": true
   },
   "outputs": [],
   "source": [
    "def schedule_ratio(datalist):\n",
    "    datasorted = sorted(datalist, key = lambda x: x[0] / float(x[1]),\n",
    "                        reverse=True)\n",
    "    if DEBUG > 1:\n",
    "        print datasorted\n",
    "    \n",
    "    total, complete = 0, 0\n",
    "    for w, l in datasorted:\n",
    "        complete += l\n",
    "        total += w * complete\n",
    "    return total"
   ]
  },
  {
   "cell_type": "code",
   "execution_count": 4,
   "metadata": {
    "collapsed": false
   },
   "outputs": [
    {
     "name": "stdout",
     "output_type": "stream",
     "text": [
      "[[8, 50], [74, 59], [31, 73], [45, 79], [24, 10], [41, 66]]\n",
      "[[74, 59], [24, 10], [41, 66], [45, 79], [31, 73], [8, 50]]\n",
      "schedule_diff passes the test!\n",
      "[[24, 10], [74, 59], [41, 66], [45, 79], [31, 73], [8, 50]]\n",
      "schedule_ratio passes the test!\n"
     ]
    }
   ],
   "source": [
    "# test case\n",
    "DEBUG = 2\n",
    "test_data = load_file('./test.txt')\n",
    "\n",
    "# Difference Method: 32780\n",
    "assert schedule_diff(test_data) == 32780, \"schedule_diff does not pass the test!\"\n",
    "print \"schedule_diff passes the test!\"\n",
    "\n",
    "# Ratio Method: 32104\n",
    "assert schedule_ratio(test_data) == 32104, \"schedule_ratio does not pass the test!\"\n",
    "print \"schedule_ratio passes the test!\""
   ]
  },
  {
   "cell_type": "code",
   "execution_count": null,
   "metadata": {
    "collapsed": false
   },
   "outputs": [],
   "source": [
    "DEBUG = 0\n",
    "\n",
    "data = load_file('./jobs.txt')\n",
    "print \"Weighted completion time for diff: {0}\".format(schedule_diff(data))\n",
    "print \"Weighted completion time for ratio: {0}\".format(schedule_ratio(data))"
   ]
  },
  {
   "cell_type": "code",
   "execution_count": null,
   "metadata": {
    "collapsed": true
   },
   "outputs": [],
   "source": []
  }
 ],
 "metadata": {
  "anaconda-cloud": {},
  "kernelspec": {
   "display_name": "Python [conda root]",
   "language": "python",
   "name": "conda-root-py"
  },
  "language_info": {
   "codemirror_mode": {
    "name": "ipython",
    "version": 2
   },
   "file_extension": ".py",
   "mimetype": "text/x-python",
   "name": "python",
   "nbconvert_exporter": "python",
   "pygments_lexer": "ipython2",
   "version": "2.7.12"
  }
 },
 "nbformat": 4,
 "nbformat_minor": 1
}
