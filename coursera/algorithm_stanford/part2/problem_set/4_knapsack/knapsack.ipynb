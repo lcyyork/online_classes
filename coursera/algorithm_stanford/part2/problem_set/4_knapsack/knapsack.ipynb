{
 "cells": [
  {
   "cell_type": "markdown",
   "metadata": {},
   "source": [
    "# Knapsack Problem\n",
    "\n",
    "## Description\n",
    "\n",
    "## Input\n",
    "\n",
    "## Output\n",
    "\n",
    "## Algorithm"
   ]
  },
  {
   "cell_type": "markdown",
   "metadata": {},
   "source": [
    "# Problem 1\n",
    "\n",
    "In this programming problem and the next you'll code up the knapsack algorithm from lecture.\n",
    "\n",
    "Let's start with a warm-up. Download the text file below.\n",
    "\n",
    "This file describes a knapsack instance, and it has the following format:\n",
    "\n",
    "[knapsack_size][number_of_items]\n",
    "\n",
    "[value_1] [weight_1]\n",
    "\n",
    "[value_2] [weight_2]\n",
    "\n",
    "...\n",
    "\n",
    "For example, the third line of the file is \"50074 659\", indicating that the second item has value 50074 and size 659, respectively.\n",
    "\n",
    "You can assume that all numbers are positive. You should assume that item weights and the knapsack capacity are integers.\n",
    "\n",
    "In the box below, type in the value of the optimal solution.\n",
    "\n",
    "ADVICE: If you're not getting the correct answer, try debugging your algorithm using some small test cases. And then post them to the discussion forum!"
   ]
  },
  {
   "cell_type": "code",
   "execution_count": null,
   "metadata": {
    "collapsed": true
   },
   "outputs": [],
   "source": []
  },
  {
   "cell_type": "markdown",
   "metadata": {},
   "source": [
    "# Problem 2\n",
    "\n",
    "This problem also asks you to solve a knapsack instance, but a much bigger one.\n",
    "\n",
    "Download the text file below.\n",
    "\n",
    "This file describes a knapsack instance, and it has the following format:\n",
    "\n",
    "[knapsack_size][number_of_items]\n",
    "\n",
    "[value_1] [weight_1]\n",
    "\n",
    "[value_2] [weight_2]\n",
    "\n",
    "...\n",
    "\n",
    "For example, the third line of the file is \"50074 834558\", indicating that the second item has value 50074 and size 834558, respectively. As before, you should assume that item weights and the knapsack capacity are integers.\n",
    "\n",
    "This instance is so big that the straightforward iterative implemetation uses an infeasible amount of time and space. So you will have to be creative to compute an optimal solution. One idea is to go back to a recursive implementation, solving subproblems --- and, of course, caching the results to avoid redundant work --- only on an \"as needed\" basis. Also, be sure to think about appropriate data structures for storing and looking up solutions to subproblems.\n",
    "\n",
    "In the box below, type in the value of the optimal solution.\n",
    "\n",
    "ADVICE: If you're not getting the correct answer, try debugging your algorithm using some small test cases. And then post them to the discussion forum!"
   ]
  },
  {
   "cell_type": "code",
   "execution_count": null,
   "metadata": {
    "collapsed": true
   },
   "outputs": [],
   "source": []
  }
 ],
 "metadata": {
  "anaconda-cloud": {},
  "kernelspec": {
   "display_name": "Python [conda root]",
   "language": "python",
   "name": "conda-root-py"
  },
  "language_info": {
   "codemirror_mode": {
    "name": "ipython",
    "version": 2
   },
   "file_extension": ".py",
   "mimetype": "text/x-python",
   "name": "python",
   "nbconvert_exporter": "python",
   "pygments_lexer": "ipython2",
   "version": "2.7.12"
  }
 },
 "nbformat": 4,
 "nbformat_minor": 1
}
