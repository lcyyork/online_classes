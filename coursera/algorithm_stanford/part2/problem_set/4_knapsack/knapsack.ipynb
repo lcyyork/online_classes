{
 "cells": [
  {
   "cell_type": "markdown",
   "metadata": {},
   "source": [
    "# [Knapsack Problem](https://en.wikipedia.org/wiki/Knapsack_problem)\n",
    "\n",
    "## Input\n",
    "There are $n$ items where each item has a nonnegative value $v_i$ and a weight (nonnegative and integral) $w_i$.<br>\n",
    "The total capacity (a nonnegative integer) $W$ is given.\n",
    "\n",
    "## Output\n",
    "A subset $S \\subseteq \\{1,2,\\dots,n\\}$ that maximize $\\sum_{i \\in S} v_i$ subject to $\\sum_{i \\in S} w_i < W$.\n",
    "\n",
    "## Algorithm\n",
    "\n",
    "Let $S$ be a max-value solution to an instance of knapsack.<br>\n",
    "**Case 1** Suppose item $n {\\not \\in} S$, then $S$ must be optimal with the first $n - 1$ items (same capacity $W$).<br>\n",
    "**Case 2** Suppose item $n \\in S$, then $S - \\{n\\}$ is an optimal solution with respect to the 1st $n - 1$ items\n",
    "and capacity $W − w_n$.<br>\n",
    "\n",
    "Let $V_{i,x}$ denote the value of the best solution that uses only the first $i$ items and has total size $\\leq x, x \\in \\{1,2,\\dots,W\\}$.\n",
    "The above two cases suggest:\n",
    "\\begin{align}\n",
    "  V_{i,x} = \\max\\{ V_{i-1,x} (\\text{case 1}), v_i + V_{i-1,x-w_i} (\\text{case 2}) \\}.\n",
    "\\end{align}\n",
    "If $w_i > x$, then item $i$ must be excluded and thus $V_{i,x} = V_{i−1,x}$.\n",
    "\n",
    "```python\n",
    "def knapsack(W, n, v, w):\n",
    "    Initialize a 2D array A (n by W). Set A[0][x] = 0 for x = 0, 1, 2, ..., W.\n",
    "    for i in 1, 2, ..., n:\n",
    "        for x in 0, 1, ..., W:\n",
    "            A[i][x] = max(A[i - 1][x], A[i - 1][x - w[i]] + v[i])\n",
    "    \n",
    "    vmax = A[n][W] # maximum value\n",
    "    \n",
    "    i = n, x = W\n",
    "    items = []     # optimal solution\n",
    "    while i > 0:\n",
    "        if A[i][x] == A[i - 1][x]:\n",
    "            i -= 1\n",
    "        else:\n",
    "            items.append(i)\n",
    "            x -= w[i]\n",
    "            i -= 1\n",
    "    \n",
    "    return vmax, items\n",
    "```"
   ]
  },
  {
   "cell_type": "markdown",
   "metadata": {},
   "source": [
    "# Problem 1\n",
    "\n",
    "In this programming problem and the next you'll code up the knapsack algorithm from lecture.\n",
    "\n",
    "Let's start with a warm-up. Download the text file below.\n",
    "\n",
    "This file describes a knapsack instance, and it has the following format:\n",
    "\n",
    "[knapsack_size][number_of_items]\n",
    "\n",
    "[value_1] [weight_1]\n",
    "\n",
    "[value_2] [weight_2]\n",
    "\n",
    "...\n",
    "\n",
    "For example, the third line of the file is \"50074 659\", indicating that the second item has value 50074 and size 659, respectively.\n",
    "\n",
    "You can assume that all numbers are positive. You should assume that item weights and the knapsack capacity are integers.\n",
    "\n",
    "In the box below, type in the value of the optimal solution.\n",
    "\n",
    "ADVICE: If you're not getting the correct answer, try debugging your algorithm using some small test cases. And then post them to the discussion forum!"
   ]
  },
  {
   "cell_type": "code",
   "execution_count": 1,
   "metadata": {
    "collapsed": true
   },
   "outputs": [],
   "source": [
    "def readfile(filename):\n",
    "    pairs = []\n",
    "    W, nitems = 0, 0\n",
    "    for num, line in enumerate(open(filename)):\n",
    "        line = map(int, line.split())\n",
    "        if num == 0:\n",
    "            W, nitems = line\n",
    "        else:\n",
    "            vi, wi = line\n",
    "            pairs.append((vi, wi))\n",
    "    \n",
    "    if len(pairs) != nitems:\n",
    "        raise ValueError(\"Number of items mismatches the file description.\")\n",
    "    \n",
    "    return W, nitems, pairs\n",
    "\n",
    "def knapsack(W, nitems, pairs):\n",
    "    A = [[0] * (W + 1) for i in range(nitems)]\n",
    "        \n",
    "    for i in range(nitems):\n",
    "        v, w = pairs[i]\n",
    "        for x in range(W + 1):\n",
    "            if i == 0:\n",
    "                if x < w:\n",
    "                    continue\n",
    "                else:\n",
    "                    A[0][x] = v\n",
    "            else:\n",
    "                if x < w:\n",
    "                    A[i][x] = A[i - 1][x]\n",
    "                else:\n",
    "                    A[i][x] = max(A[i - 1][x], A[i - 1][x - w] + v)\n",
    "    \n",
    "    vmax = A[nitems - 1][W]\n",
    "    \n",
    "    i = nitems - 1\n",
    "    x = W\n",
    "    items = []\n",
    "    while i >= 0 and x >= 0:\n",
    "        if i == 0:\n",
    "            if A[0][x] != 0:\n",
    "                items.append(pairs[0])\n",
    "            else:\n",
    "                break\n",
    "        if A[i][x] != A[i - 1][x]:\n",
    "            items.append(pairs[i])\n",
    "            x -= pairs[i][1]\n",
    "        i -= 1\n",
    "    \n",
    "    return vmax, items"
   ]
  },
  {
   "cell_type": "code",
   "execution_count": 2,
   "metadata": {
    "collapsed": true
   },
   "outputs": [],
   "source": [
    "# timer grabbed from \n",
    "# https://stackoverflow.com/questions/7370801/measure-time-elapsed-in-python\n",
    "from timeit import default_timer as timer\n",
    "class benchmark(object):\n",
    "    def __init__(self, msg, fmt=\"%0.3g\"):\n",
    "        self.msg = msg\n",
    "        self.fmt = fmt\n",
    "\n",
    "    def __enter__(self):\n",
    "        self.start = timer()\n",
    "        return self\n",
    "\n",
    "    def __exit__(self, *args):\n",
    "        t = timer() - self.start\n",
    "        print((\"%s : \" + self.fmt + \" seconds\") % (self.msg, t))\n",
    "        self.time = t"
   ]
  },
  {
   "cell_type": "code",
   "execution_count": 3,
   "metadata": {
    "scrolled": true
   },
   "outputs": [
    {
     "name": "stdout",
     "output_type": "stream",
     "text": [
      "Naive bottom-up knapsack : 0.0967 seconds\n",
      "Optimal value is consistent to optimal solution.\n",
      "Optimal value: 1993, total weight: 100\n",
      "Naive bottom-up knapsack passes the test case!\n"
     ]
    }
   ],
   "source": [
    "# test case -- 1993\n",
    "W, n, pairs = readfile(\"test1.txt\")\n",
    "with benchmark(\"Naive bottom-up knapsack\") as r:\n",
    "    vmax, items = knapsack(W, n, pairs)\n",
    "\n",
    "def check_answer(vmax, items):\n",
    "    V, W = 0, 0\n",
    "    for v, w in items:\n",
    "        V += v\n",
    "        W += w\n",
    "    \n",
    "    if V != vmax:\n",
    "        print \"Knapsack value is inconsistent to output solution.\"\n",
    "        print \"\\\"Optimal\\\" value: {0}\".format(vmax)\n",
    "        print \"\\\"Optimal\\\" solution (value, weight):\"\n",
    "        print items\n",
    "        print \"From this solution, value: {0}, total weight: {1}\".format(V, W)\n",
    "    else:\n",
    "        print \"Optimal value is consistent to optimal solution.\"\n",
    "        print \"Optimal value: {0}, total weight: {1}\".format(vmax, W)\n",
    "    \n",
    "    return\n",
    "\n",
    "check_answer(vmax, items)\n",
    "assert vmax == 1993, \"Naive bottom-up knapsack does not pass the test case!\"\n",
    "print \"Naive bottom-up knapsack passes the test case!\""
   ]
  },
  {
   "cell_type": "code",
   "execution_count": 4,
   "metadata": {},
   "outputs": [
    {
     "name": "stdout",
     "output_type": "stream",
     "text": [
      "Naive bottom-up knapsack on knapsack1.txt : 0.997 seconds\n"
     ]
    }
   ],
   "source": [
    "W, n, pairs = readfile(\"knapsack1.txt\")\n",
    "with benchmark(\"Naive bottom-up knapsack on knapsack1.txt\") as r:\n",
    "    vmax, items = knapsack(W, n, pairs)\n",
    "# print vmax"
   ]
  },
  {
   "cell_type": "markdown",
   "metadata": {},
   "source": [
    "# Problem 2\n",
    "\n",
    "This problem also asks you to solve a knapsack instance, but a much bigger one.\n",
    "\n",
    "Download the text file below.\n",
    "\n",
    "This file describes a knapsack instance, and it has the following format:\n",
    "\n",
    "[knapsack_size][number_of_items]\n",
    "\n",
    "[value_1] [weight_1]\n",
    "\n",
    "[value_2] [weight_2]\n",
    "\n",
    "...\n",
    "\n",
    "For example, the third line of the file is \"50074 834558\", indicating that the second item has value 50074 and size 834558, respectively. As before, you should assume that item weights and the knapsack capacity are integers.\n",
    "\n",
    "This instance is so big that the straightforward iterative implemetation uses an infeasible amount of time and space. So you will have to be creative to compute an optimal solution. One idea is to go back to a recursive implementation, solving subproblems --- and, of course, caching the results to avoid redundant work --- only on an \"as needed\" basis. Also, be sure to think about appropriate data structures for storing and looking up solutions to subproblems.\n",
    "\n",
    "In the box below, type in the value of the optimal solution.\n",
    "\n",
    "ADVICE: If you're not getting the correct answer, try debugging your algorithm using some small test cases. And then post them to the discussion forum!"
   ]
  },
  {
   "cell_type": "markdown",
   "metadata": {},
   "source": [
    "## Top-Down Dynamic Programming (Memoization)\n",
    "\n",
    "Ask the recursive program to save each value that it computes, and to check the saved values to avoid recomputing any of them. [**Algorithms in C**, p.210]\n",
    "\n",
    "Example of computing Fibonacci numbers:\n",
    "```python\n",
    "def F_recursive(i):\n",
    "    if i < 1:\n",
    "        return 0\n",
    "    if i == 1:\n",
    "        return 1\n",
    "    return F_recursive(i - 1) + F_recursive(i - 2)\n",
    "\n",
    "def F_recursive_DP(i):\n",
    "    t = None\n",
    "    if knownF[i] is not None:\n",
    "        return knownF[i]\n",
    "    if i < 1:\n",
    "        t = 0\n",
    "    if i == 1:\n",
    "        t = 1\n",
    "    if i > 1:\n",
    "        t = F_recursive_DP(i - 1) + F_recursive_DP(i - 2)\n",
    "    knownF[i] = t\n",
    "    return t\n",
    "```"
   ]
  },
  {
   "cell_type": "code",
   "execution_count": 5,
   "metadata": {
    "collapsed": true,
    "scrolled": false
   },
   "outputs": [],
   "source": [
    "max_known = {}\n",
    "\n",
    "# Adapted from http://www.geeksforgeeks.org/knapsack-problem/\n",
    "def knapsack_recursive(W, n, items):\n",
    "    try:\n",
    "        return max_known[(W, n)]\n",
    "    except:\n",
    "        if W == 0:\n",
    "            max_known[(0, n)] = 0\n",
    "            return 0\n",
    "        if n == 0:\n",
    "            max_known[(W, 0)] = 0\n",
    "            return 0\n",
    "        \n",
    "        v, w = items[n - 1]\n",
    "        if w > W:\n",
    "            t = knapsack_recursive(W, n - 1, items)\n",
    "            max_known[(W, n)] = t\n",
    "            return t\n",
    "        else:\n",
    "            t1 = knapsack_recursive(W, n - 1, items)\n",
    "            t2 = v + knapsack_recursive(W - w, n - 1, items)\n",
    "            t = max(t1, t2)\n",
    "            max_known[(W, n)] = t\n",
    "            return t"
   ]
  },
  {
   "cell_type": "code",
   "execution_count": 6,
   "metadata": {},
   "outputs": [
    {
     "name": "stdout",
     "output_type": "stream",
     "text": [
      "Top-down knapsack on test1.txt : 0.383 seconds\n",
      "Top-down knapsack passes the test case!\n"
     ]
    }
   ],
   "source": [
    "# test case -- 1993\n",
    "import sys\n",
    "sys.setrecursionlimit(5000)\n",
    "\n",
    "max_known = {}\n",
    "W, n, items = readfile(\"test1.txt\")\n",
    "\n",
    "with benchmark(\"Top-down knapsack on test1.txt\") as r:\n",
    "    vmax = knapsack_recursive(W, n, items)\n",
    "\n",
    "assert vmax == 1993, \"Top-down knapsack does not pass the test case!\"\n",
    "print \"Top-down knapsack passes the test case!\""
   ]
  },
  {
   "cell_type": "code",
   "execution_count": 7,
   "metadata": {},
   "outputs": [
    {
     "name": "stdout",
     "output_type": "stream",
     "text": [
      "Top-down knapsack on knapsack_big.txt : 94.6 seconds\n"
     ]
    }
   ],
   "source": [
    "max_known = {}\n",
    "W, n, items = readfile(\"knapsack_big.txt\")\n",
    "with benchmark(\"Top-down knapsack on knapsack_big.txt\") as r:\n",
    "    vmax = knapsack_recursive(W, n, items)\n",
    "# print vmax"
   ]
  },
  {
   "cell_type": "code",
   "execution_count": 8,
   "metadata": {
    "scrolled": false
   },
   "outputs": [
    {
     "name": "stdout",
     "output_type": "stream",
     "text": [
      "[0, 5, 5, 5, 5, 5, 5, 5, 5, 5, 5]\n",
      "[0, 5, 5, 5, 5, 9, 9, 9, 9, 9, 9]\n",
      "[0, 5, 5, 5, 5, 9, 9, 9, 9, 13, 13]\n",
      "[0, 5, 5, 10, 10, 10, 10, 14, 14, 14, 14]\n",
      "[0, 5, 5, 10, 10, 13, 13, 14, 14, 17, 17]\n",
      "[0, 5, 5, 10, 10, 13, 13, 15, 15, 18, 18]\n",
      "[0, 5, 5, 10, 10, 13, 13, 15, 15, 18, 18]\n",
      "[0, 5, 5, 10, 10, 13, 13, 15, 15, 18, 18]\n",
      "[0, 5, 5, 10, 10, 13, 14, 15, 17, 18, 19]\n",
      "[0, 5, 5, 10, 10, 13, 14, 15, 17, 18, 19]\n",
      "Memory optimized bottom-up knapsack on test.txt : 0.00123 seconds\n",
      "19\n",
      "Memory optimized bottom-up knapsack on test1.txt : 0.29 seconds\n",
      "1993\n"
     ]
    }
   ],
   "source": [
    "import copy\n",
    "\n",
    "DEBUG = 2\n",
    "def knapsack_opt(W, n, pairs):\n",
    "    previous_column = [0] * (W + 1)\n",
    "    current_column = [0] * (W + 1)\n",
    "    \n",
    "    for i in range(n):\n",
    "        v, w = pairs[i]\n",
    "        current_column = copy.deepcopy(previous_column)\n",
    "        for x in range(W + 1):\n",
    "            t = v + previous_column[x - w]\n",
    "            if x - w >= 0 and t > previous_column[x]:\n",
    "                current_column[x] = t\n",
    "        previous_column = current_column\n",
    "        \n",
    "        if DEBUG > 1:\n",
    "            print previous_column\n",
    "    \n",
    "    vmax = previous_column[W]\n",
    "    \n",
    "    return vmax\n",
    "\n",
    "DEBUG = 2\n",
    "W, n, items = readfile(\"test.txt\")\n",
    "with benchmark(\"Memory optimized bottom-up knapsack on test.txt\") as r:\n",
    "    vmax = knapsack_opt(W, n, items)\n",
    "print vmax\n",
    "\n",
    "DEBUG = 0\n",
    "W, n, items = readfile(\"test1.txt\")\n",
    "with benchmark(\"Memory optimized bottom-up knapsack on test1.txt\") as r:\n",
    "    vmax = knapsack_opt(W, n, items)\n",
    "print vmax"
   ]
  },
  {
   "cell_type": "code",
   "execution_count": 9,
   "metadata": {
    "scrolled": false
   },
   "outputs": [
    {
     "name": "stdout",
     "output_type": "stream",
     "text": [
      "[0 5 5 5 5 5 5 5 5 5 5]\n",
      "[0 5 5 5 5 9 9 9 9 9 9]\n",
      "[ 0  5  5  5  5  9  9  9  9 13 13]\n",
      "[ 0  5  5 10 10 10 10 14 14 14 14]\n",
      "[ 0  5  5 10 10 13 13 14 14 17 17]\n",
      "[ 0  5  5 10 10 13 13 15 15 18 18]\n",
      "[ 0  5  5 10 10 13 13 15 15 18 18]\n",
      "[ 0  5  5 10 10 13 13 15 15 18 18]\n",
      "[ 0  5  5 10 10 13 14 15 17 18 19]\n",
      "[ 0  5  5 10 10 13 14 15 17 18 19]\n",
      "Vectorized bottom-up knapsack on test.txt : 0.00406 seconds\n",
      "19\n",
      "Vectorized bottom-up knapsack on test1.txt : 0.00468 seconds\n",
      "1993\n"
     ]
    }
   ],
   "source": [
    "import numpy as np\n",
    "\n",
    "def knapsack_vertorized(W, n, pairs):\n",
    "    column = np.zeros(W + 1, dtype=np.int)\n",
    "    \n",
    "    for i in range(n):\n",
    "        v, w = pairs[i]\n",
    "        \n",
    "        shifted = v + column[:-w]\n",
    "        column[w:] = np.where(shifted > column[w:], shifted, column[w:])\n",
    "        \n",
    "        if DEBUG > 1:\n",
    "            print column\n",
    "    \n",
    "    vmax = column[W]\n",
    "    \n",
    "    return vmax\n",
    "\n",
    "DEBUG = 2\n",
    "W, n, items = readfile(\"test.txt\")\n",
    "with benchmark(\"Vectorized bottom-up knapsack on test.txt\") as r:\n",
    "    vmax = knapsack_vertorized(W, n, items)\n",
    "print vmax\n",
    "\n",
    "DEBUG = 0\n",
    "W, n, items = readfile(\"test1.txt\")\n",
    "with benchmark(\"Vectorized bottom-up knapsack on test1.txt\") as r:\n",
    "    vmax = knapsack_vertorized(W, n, items)\n",
    "print vmax"
   ]
  },
  {
   "cell_type": "code",
   "execution_count": 10,
   "metadata": {},
   "outputs": [
    {
     "name": "stdout",
     "output_type": "stream",
     "text": [
      "Vectorized bottom-up knapsack on knapsack_big.txt : 28.7 seconds\n"
     ]
    }
   ],
   "source": [
    "DEBUG = 0\n",
    "W, n, items = readfile(\"knapsack_big.txt\")\n",
    "with benchmark(\"Vectorized bottom-up knapsack on knapsack_big.txt\") as r:\n",
    "    vmax = knapsack_vertorized(W, n, items)\n",
    "# print vmax"
   ]
  }
 ],
 "metadata": {
  "anaconda-cloud": {},
  "kernelspec": {
   "display_name": "Python [conda root]",
   "language": "python",
   "name": "conda-root-py"
  },
  "language_info": {
   "codemirror_mode": {
    "name": "ipython",
    "version": 2
   },
   "file_extension": ".py",
   "mimetype": "text/x-python",
   "name": "python",
   "nbconvert_exporter": "python",
   "pygments_lexer": "ipython2",
   "version": "2.7.14"
  }
 },
 "nbformat": 4,
 "nbformat_minor": 1
}
