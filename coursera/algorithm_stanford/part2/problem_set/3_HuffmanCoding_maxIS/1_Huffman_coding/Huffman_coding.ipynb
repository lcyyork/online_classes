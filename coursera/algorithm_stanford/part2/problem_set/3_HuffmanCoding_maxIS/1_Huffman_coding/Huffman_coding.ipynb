{
 "cells": [
  {
   "cell_type": "markdown",
   "metadata": {},
   "source": [
    "This file describes an instance of the problem. It has the following format:\n",
    "\n",
    "[number_of_symbols]\n",
    "\n",
    "[weight of symbol #1]\n",
    "\n",
    "[weight of symbol #2]\n",
    "\n",
    "...\n",
    "\n",
    "For example, the third line of the file is \"6852892,\" indicating that the weight of the second symbol of the alphabet is 6852892. (We're using weights instead of frequencies, like in the \"A More Complex Example\" video.)\n",
    "\n",
    "ADVICE: If you're not getting the correct answer, try debugging your algorithm using some small test cases. And then post them to the discussion forum!\n",
    "\n",
    "## Problem 1\n",
    "Your task in this problem is to run the Huffman coding algorithm from lecture on this data set. What is the maximum length of a codeword in the resulting Huffman code?\n",
    "\n",
    "## Problem 2\n",
    "Continuing the previous problem, what is the minimum length of a codeword in your Huffman code?"
   ]
  },
  {
   "cell_type": "markdown",
   "metadata": {},
   "source": [
    "# Huffman Coding\n",
    "\n",
    "## Input\n",
    "Probability $p_i$ for each character $i \\in \\Sigma$, where $\\Sigma$ is the set of characters.\n",
    "\n",
    "## Output\n",
    "A binary tree $T$ (with leaves $\\leftrightarrow$ symbols of $\\Sigma$) minimizing the average encoding length:\n",
    "\\begin{align}\n",
    "  L(T) = \\sum_{i \\in \\Sigma} p_i [\\text{depth of } i \\text{ in } T].\n",
    "\\end{align}\n",
    "\n",
    "## Algorithm\n",
    "**Greedy heuristic**: merge the two symbols with the smallest frequencies.\n",
    "```\n",
    "def Huffman_coding(frequencies p_i):\n",
    "  if size of S == 2: return\n",
    "  \n",
    "  while size of S > 1\n",
    "    a, b = characters with the smallest frequencies\n",
    "    S = S with a, b replaced by combined symbol ab\n",
    "    p_ab = p_a + p_b\n",
    "    frequencies = frequencies with p_a, p_b replaced by p_ab\n",
    "    Tprime += node(ab, a, b)\n",
    "  \n",
    "  T = traverse Tprime and extend from root to leaves\n",
    "  return T\n",
    "```\n",
    "\n",
    "## Implementation\n",
    "**Heap**: put the frequencies into a heap.<br><br>\n",
    "**Sorted array**:\n",
    "```\n",
    "1. sort the original frequencies array to increasing order.\n",
    "2. initialize an empty array for frequencies of combined symbols.\n",
    "3. while there is more than one node in the queues:\n",
    "     3-1. Dequeue two nodes (a, b) with the lowest weights among both queues.\n",
    "     3-2. Create an internal node (ab) and its weight p_ab = p_a + p_b.\n",
    "     3-3. Append p_ab to the array initalized in step 2.\n",
    "4. The remaining node is the root node.\n",
    "5. Traverse the tree and print coding.\n",
    "```"
   ]
  },
  {
   "cell_type": "code",
   "execution_count": 1,
   "metadata": {
    "collapsed": false
   },
   "outputs": [],
   "source": [
    "import types\n",
    "NumberTypes = (types.IntType, types.LongType, types.FloatType, types.ComplexType)\n",
    "\n",
    "class Node:\n",
    "    \"\"\" Simple class to represent a node. \"\"\"\n",
    "    def __init__(self, name, weight):\n",
    "        if not isinstance(weight, NumberTypes):\n",
    "            raise ValueError(\"Weight of a Node must be a number\")\n",
    "        \n",
    "        self.name = name\n",
    "        self.weight = weight\n",
    "        self.left = None\n",
    "        self.right = None\n",
    "        return\n",
    "    \n",
    "    def __repr__(self):\n",
    "        lname = \"None\" if self.left is None else self.left.name\n",
    "        rname = \"None\" if self.right is None else self.right.name\n",
    "        return \"Node: {0}, Weight: {1}, Left: {2}, Right: {3}\".format(self.name,\n",
    "                                                                      self.weight,\n",
    "                                                                      lname, rname)\n",
    "    \n",
    "    def __eq__(self, other):\n",
    "        return self.weight == other.weight\n",
    "    \n",
    "    def __ne__(self, other):\n",
    "        return self.weight != other.weight\n",
    "    \n",
    "    def __lt__(self, other):\n",
    "        return self.weight < other.weight\n",
    "    \n",
    "    def __le__(self, other):\n",
    "        return self.weight <= other.weight\n",
    "    \n",
    "    def __gt__(self, other):\n",
    "        return self.weight > other.weight\n",
    "    \n",
    "    def __ge__(self, other):\n",
    "        return self.weight >= other.weight\n",
    "    \n",
    "#     def __cmp__(self, other):\n",
    "#         if self.weight > other.weight:\n",
    "#             return 1\n",
    "#         elif self.weight == other.weight:\n",
    "#             return 0\n",
    "#         else:\n",
    "#             return -1\n",
    "    \n",
    "    def set_left(self, left):\n",
    "        self.left = left\n",
    "        return\n",
    "    \n",
    "    def set_right(self, right):\n",
    "        self.right = right\n",
    "        return\n",
    "    \n",
    "    def set_children(self, left, right):\n",
    "        self.left = left\n",
    "        self.right = right\n",
    "        return"
   ]
  },
  {
   "cell_type": "code",
   "execution_count": 2,
   "metadata": {
    "collapsed": false
   },
   "outputs": [],
   "source": [
    "DEBUG = 2\n",
    "\n",
    "import heapq\n",
    "def readfile(filename):\n",
    "    n = None\n",
    "    data = []\n",
    "    for linenum, line in enumerate(open(filename, 'r')):\n",
    "        line = line.strip()\n",
    "        if linenum == 0:\n",
    "            n = int(line)\n",
    "        else:\n",
    "            data.append(Node(linenum, int(line)))\n",
    "    \n",
    "    if DEBUG > 1:\n",
    "        print \"Read from file {0}\".format(filename)\n",
    "        for i in data:\n",
    "            print i\n",
    "    \n",
    "    return n, data\n",
    "\n",
    "def print_Huffman_tree(node, addup_coding, codingmap):\n",
    "    if node is None:\n",
    "        return\n",
    "    \n",
    "    if node.name != \"i\":\n",
    "        codingmap[node.weight] = addup_coding\n",
    "    \n",
    "    print_Huffman_tree(node.left, addup_coding + \"0\", codingmap)\n",
    "    print_Huffman_tree(node.right, addup_coding + \"1\", codingmap)\n",
    "\n",
    "def Huffman_coding_heap(data):\n",
    "    heapq.heapify(data)\n",
    "\n",
    "    while len(data) > 1:\n",
    "        left = heapq.heappop(data)\n",
    "        right = heapq.heappop(data)\n",
    "        w = left.weight + right.weight\n",
    "        node = Node(\"i\", w)\n",
    "        node.set_children(left, right)\n",
    "        heapq.heappush(data, node)\n",
    "    \n",
    "    codingmap = {}\n",
    "    print_Huffman_tree(data[0], \"\", codingmap)\n",
    "    \n",
    "    if DEBUG > 1:\n",
    "        print \"Weight-to-coding map from Huffman_coding_heap:\"\n",
    "        print codingmap\n",
    "    \n",
    "    return codingmap\n",
    "\n",
    "def analyze_codingmap(codingmap):\n",
    "    \"\"\" Return the max and min length of Huffman coding. \"\"\"\n",
    "    max_node = max(codingmap, key = lambda x: len(codingmap[x]))\n",
    "    min_node = min(codingmap, key = lambda x: len(codingmap[x]))\n",
    "    return len(codingmap[max_node]), len(codingmap[min_node])"
   ]
  },
  {
   "cell_type": "code",
   "execution_count": 3,
   "metadata": {
    "collapsed": false
   },
   "outputs": [
    {
     "name": "stdout",
     "output_type": "stream",
     "text": [
      "Read from file test.txt\n",
      "Node: 1, Weight: 895, Left: None, Right: None\n",
      "Node: 2, Weight: 121, Left: None, Right: None\n",
      "Node: 3, Weight: 188, Left: None, Right: None\n",
      "Node: 4, Weight: 953, Left: None, Right: None\n",
      "Node: 5, Weight: 378, Left: None, Right: None\n",
      "Node: 6, Weight: 849, Left: None, Right: None\n",
      "Node: 7, Weight: 153, Left: None, Right: None\n",
      "Node: 8, Weight: 579, Left: None, Right: None\n",
      "Node: 9, Weight: 144, Left: None, Right: None\n",
      "Node: 10, Weight: 727, Left: None, Right: None\n",
      "Node: 11, Weight: 589, Left: None, Right: None\n",
      "Node: 12, Weight: 301, Left: None, Right: None\n",
      "Node: 13, Weight: 442, Left: None, Right: None\n",
      "Node: 14, Weight: 327, Left: None, Right: None\n",
      "Node: 15, Weight: 930, Left: None, Right: None\n",
      "Weight-to-coding map from Huffman_coding_heap:\n",
      "{930: '100', 579: '1101', 327: '11110', 301: '11001', 589: '1110', 144: '110001', 849: '010', 121: '110000', 727: '000', 153: '111110', 953: '101', 378: '0010', 188: '111111', 442: '0011', 895: '011'}\n",
      "maximum length of a codeword = 6\n",
      "minimum length of a codeword = 3\n"
     ]
    }
   ],
   "source": [
    "# test case: max--6, min--3\n",
    "n, data = readfile('test.txt')\n",
    "codingmap = Huffman_coding_heap(data)\n",
    "max_len, min_len = analyze_codingmap(codingmap)\n",
    "print \"maximum length of a codeword = {0}\".format(max_len)\n",
    "print \"minimum length of a codeword = {0}\".format(min_len)"
   ]
  },
  {
   "cell_type": "code",
   "execution_count": 4,
   "metadata": {
    "collapsed": true
   },
   "outputs": [],
   "source": [
    "# timer grabbed from \n",
    "# https://stackoverflow.com/questions/7370801/measure-time-elapsed-in-python\n",
    "from timeit import default_timer as timer\n",
    "class benchmark(object):\n",
    "    def __init__(self, msg, fmt=\"%0.3g\"):\n",
    "        self.msg = msg\n",
    "        self.fmt = fmt\n",
    "\n",
    "    def __enter__(self):\n",
    "        self.start = timer()\n",
    "        return self\n",
    "\n",
    "    def __exit__(self, *args):\n",
    "        t = timer() - self.start\n",
    "        print((\"%s : \" + self.fmt + \" seconds\") % (self.msg, t))\n",
    "        self.time = t"
   ]
  },
  {
   "cell_type": "code",
   "execution_count": 5,
   "metadata": {
    "collapsed": false
   },
   "outputs": [
    {
     "name": "stdout",
     "output_type": "stream",
     "text": [
      "Huffman coding using heap : 0.0183 seconds\n"
     ]
    }
   ],
   "source": [
    "DEBUG = 0\n",
    "n, data = readfile('huffman.txt')\n",
    "with benchmark(\"Huffman coding using heap\") as r:\n",
    "    codingmap = Huffman_coding_heap(data)\n",
    "max_len, min_len = analyze_codingmap(codingmap)\n",
    "# print \"maximum length of a codeword = {0}\".format(max_len)\n",
    "# print \"minimum length of a codeword = {0}\".format(min_len)"
   ]
  },
  {
   "cell_type": "code",
   "execution_count": 6,
   "metadata": {
    "collapsed": true
   },
   "outputs": [],
   "source": [
    "def find_min(data, dlen, secondary, slen):\n",
    "    if dlen == 0:\n",
    "        slen -= 1\n",
    "        return secondary.pop(0), dlen, slen\n",
    "    \n",
    "    if slen == 0:\n",
    "        dlen -= 1\n",
    "        return data.pop(0), dlen, slen\n",
    "    \n",
    "    if data[0] < secondary[0]:\n",
    "        dlen -= 1\n",
    "        return data.pop(0), dlen, slen\n",
    "    else:\n",
    "        slen -= 1\n",
    "        return secondary.pop(0), dlen, slen\n",
    "\n",
    "def Huffman_coding_sorted(n, data):\n",
    "    data = sorted(data)\n",
    "    secondary = []\n",
    "    \n",
    "    dlen, slen = n, 0\n",
    "    while dlen + slen > 1:\n",
    "        left, dlen, slen = find_min(data, dlen, secondary, slen)\n",
    "        right, dlen, slen = find_min(data, dlen, secondary, slen)\n",
    "        w = left.weight + right.weight\n",
    "        node = Node(\"i\", w)\n",
    "        node.set_children(left, right)\n",
    "        secondary.append(node)\n",
    "        slen += 1\n",
    "    \n",
    "    codingmap = {}\n",
    "    print_Huffman_tree(secondary[0], \"\", codingmap)\n",
    "    \n",
    "    if DEBUG > 1:\n",
    "        print \"Weight-to-coding map from Huffman_coding_heap:\"\n",
    "        print codingmap\n",
    "    \n",
    "    return codingmap"
   ]
  },
  {
   "cell_type": "code",
   "execution_count": 7,
   "metadata": {
    "collapsed": false
   },
   "outputs": [
    {
     "name": "stdout",
     "output_type": "stream",
     "text": [
      "Read from file test.txt\n",
      "Node: 1, Weight: 895, Left: None, Right: None\n",
      "Node: 2, Weight: 121, Left: None, Right: None\n",
      "Node: 3, Weight: 188, Left: None, Right: None\n",
      "Node: 4, Weight: 953, Left: None, Right: None\n",
      "Node: 5, Weight: 378, Left: None, Right: None\n",
      "Node: 6, Weight: 849, Left: None, Right: None\n",
      "Node: 7, Weight: 153, Left: None, Right: None\n",
      "Node: 8, Weight: 579, Left: None, Right: None\n",
      "Node: 9, Weight: 144, Left: None, Right: None\n",
      "Node: 10, Weight: 727, Left: None, Right: None\n",
      "Node: 11, Weight: 589, Left: None, Right: None\n",
      "Node: 12, Weight: 301, Left: None, Right: None\n",
      "Node: 13, Weight: 442, Left: None, Right: None\n",
      "Node: 14, Weight: 327, Left: None, Right: None\n",
      "Node: 15, Weight: 930, Left: None, Right: None\n",
      "Weight-to-coding map from Huffman_coding_heap:\n",
      "{930: '100', 579: '1101', 327: '11110', 301: '11001', 589: '1110', 144: '110001', 849: '010', 121: '110000', 727: '000', 153: '111110', 953: '101', 378: '0010', 188: '111111', 442: '0011', 895: '011'}\n",
      "maximum length of a codeword = 6\n",
      "minimum length of a codeword = 3\n"
     ]
    }
   ],
   "source": [
    "# test case: max--6, min--3\n",
    "DEBUG = 2\n",
    "n, data = readfile('test.txt')\n",
    "codingmap = Huffman_coding_sorted(n, data)\n",
    "max_len, min_len = analyze_codingmap(codingmap)\n",
    "print \"maximum length of a codeword = {0}\".format(max_len)\n",
    "print \"minimum length of a codeword = {0}\".format(min_len)"
   ]
  },
  {
   "cell_type": "code",
   "execution_count": 8,
   "metadata": {
    "collapsed": false
   },
   "outputs": [
    {
     "name": "stdout",
     "output_type": "stream",
     "text": [
      "Huffman coding using sorted array : 0.0149 seconds\n"
     ]
    }
   ],
   "source": [
    "DEBUG = 0\n",
    "n, data = readfile('huffman.txt')\n",
    "with benchmark(\"Huffman coding using sorted array\") as r:\n",
    "    codingmap = Huffman_coding_sorted(n, data)\n",
    "max_len, min_len = analyze_codingmap(codingmap)\n",
    "# print \"maximum length of a codeword = {0}\".format(max_len)\n",
    "# print \"minimum length of a codeword = {0}\".format(min_len)"
   ]
  },
  {
   "cell_type": "code",
   "execution_count": null,
   "metadata": {
    "collapsed": true
   },
   "outputs": [],
   "source": []
  }
 ],
 "metadata": {
  "anaconda-cloud": {},
  "kernelspec": {
   "display_name": "Python [conda root]",
   "language": "python",
   "name": "conda-root-py"
  },
  "language_info": {
   "codemirror_mode": {
    "name": "ipython",
    "version": 2
   },
   "file_extension": ".py",
   "mimetype": "text/x-python",
   "name": "python",
   "nbconvert_exporter": "python",
   "pygments_lexer": "ipython2",
   "version": "2.7.12"
  }
 },
 "nbformat": 4,
 "nbformat_minor": 1
}
