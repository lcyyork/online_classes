{
 "cells": [
  {
   "cell_type": "markdown",
   "metadata": {},
   "source": [
    "This file describes the weights of the vertices in a path graph (with the weights listed in the order in which vertices appear in the path). It has the following format:\n",
    "\n",
    "[number_of_vertices]\n",
    "\n",
    "[weight of first vertex]\n",
    "\n",
    "[weight of second vertex]\n",
    "\n",
    "...\n",
    "\n",
    "For example, the third line of the file is \"6395702,\" indicating that the weight of the second vertex of the graph is 6395702.\n",
    "\n",
    "Your task in this problem is to run the dynamic programming algorithm (and the reconstruction procedure) from lecture on this data set. The question is: of the vertices 1, 2, 3, 4, 17, 117, 517, and 997, which ones belong to the maximum-weight independent set? (By \"vertex 1\" we mean the first vertex of the graph---there is no vertex 0.)"
   ]
  },
  {
   "cell_type": "markdown",
   "metadata": {},
   "source": [
    "# Maximum Weighted Independent Set for Path Graph\n",
    "\n",
    "## Input\n",
    "A path graph $G = (V , E )$ with nonnegative weights on vertices.\n",
    "\n",
    "## Output\n",
    "Subset of nonadjacent vertices $-$ an independent set $-$ of maximum total weight.\n",
    "\n",
    "## Dynamic Programming Solution\n",
    "Let $S$ be an MWIS and $v_n$ be the last vertex of the path.<br>\n",
    "**Case 1**: if $v_n \\not \\in S$, then $S$ is an MWIS of $G' = G - \\{v_n\\}$.<br>\n",
    "**Case 2**: if $v_n \\in S$, then $v_{n-1} \\not \\in S$ and $S - \\{v_n\\}$ is an MWIS of $G'' = G - \\{v_n, v_{n-1}\\}$.\n",
    "\n",
    "### Algorithm\n",
    "1. Recursively compute $S_1$ = MWIS of $G'$.\n",
    "2. Recursively compute $S_2$ = MWIS of $G''$.\n",
    "3. Return the better of $S_1$ or $S_2 \\cup \\{v_n\\}$.\n",
    "\n",
    "Since the above steps has exponential scaling, we cache the solution of subproblem in a global table:\n",
    "```python\n",
    "A = [0] * (n + 1)\n",
    "A[0], A[1] = 0, w_1\n",
    "for i in range(2, n + 1):\n",
    "    A[i] = max(A[i - 1], A[i - 2] + w_i)\n",
    "```\n",
    "The array ```A``` contains the values of an MWIS.\n",
    "To obtain the actual $S$:\n",
    "```python\n",
    "S = []\n",
    "# scan A from right to left\n",
    "while i >= 1:\n",
    "    if A[i - 1] >= A[i - 2] + w_i: # i is not in S\n",
    "        i -= 1\n",
    "    else:                           # i is in S\n",
    "        S.append(i)\n",
    "        i -= 2\n",
    "\n",
    "return S\n",
    "```"
   ]
  },
  {
   "cell_type": "code",
   "execution_count": 1,
   "metadata": {
    "collapsed": true
   },
   "outputs": [],
   "source": [
    "def readfile(filename):\n",
    "    n = 0\n",
    "    data = []\n",
    "    for linenum, line in enumerate(open(filename, 'r')):\n",
    "        line = int(line.strip())\n",
    "        if linenum == 0:\n",
    "            n = line\n",
    "        else:\n",
    "            data.append(line)\n",
    "    \n",
    "    return n, data\n",
    "\n",
    "def max_weighted_IS(n, w):\n",
    "    # Note length of w is n!\n",
    "    A = [0] * (n + 1)\n",
    "    A[0], A[1] = 0, w[0]\n",
    "    for i in range(2, n + 1):\n",
    "        A[i] = max(A[i - 1], A[i - 2] + w[i - 1])\n",
    "    \n",
    "    S = []\n",
    "    i = n\n",
    "    \n",
    "    # scan A from right to left\n",
    "    while i >= 1:\n",
    "        if A[i - 1] >= A[i - 2] + w[i - 1]: # i is not in S\n",
    "            i -= 1\n",
    "        else:                               # i is in S\n",
    "            S.append(i)\n",
    "            i -= 2\n",
    "    \n",
    "    return S\n",
    "\n",
    "def main(filename, vertices):\n",
    "    n, weights = readfile(filename)\n",
    "    S = max_weighted_IS(n, weights)\n",
    "    I = set(S).intersection(vertices)\n",
    "    return I"
   ]
  },
  {
   "cell_type": "code",
   "execution_count": 2,
   "metadata": {
    "collapsed": false
   },
   "outputs": [
    {
     "data": {
      "text/plain": [
       "{2, 4, 6, 8, 10}"
      ]
     },
     "execution_count": 2,
     "metadata": {},
     "output_type": "execute_result"
    }
   ],
   "source": [
    "# test case\n",
    "# Max sum: 2616\n",
    "# Chosen points (position): [2, 4, 6, 8, 10]\n",
    "main(\"test.txt\", [2, 4, 6, 8, 10])"
   ]
  },
  {
   "cell_type": "code",
   "execution_count": 3,
   "metadata": {
    "collapsed": false
   },
   "outputs": [],
   "source": [
    "I = main(\"mwis.txt\", [1, 2, 3, 4, 17, 117, 517, 997])"
   ]
  },
  {
   "cell_type": "code",
   "execution_count": null,
   "metadata": {
    "collapsed": true
   },
   "outputs": [],
   "source": []
  }
 ],
 "metadata": {
  "anaconda-cloud": {},
  "kernelspec": {
   "display_name": "Python [conda root]",
   "language": "python",
   "name": "conda-root-py"
  },
  "language_info": {
   "codemirror_mode": {
    "name": "ipython",
    "version": 2
   },
   "file_extension": ".py",
   "mimetype": "text/x-python",
   "name": "python",
   "nbconvert_exporter": "python",
   "pygments_lexer": "ipython2",
   "version": "2.7.12"
  }
 },
 "nbformat": 4,
 "nbformat_minor": 1
}
