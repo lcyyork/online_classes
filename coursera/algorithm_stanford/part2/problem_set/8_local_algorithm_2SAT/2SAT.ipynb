{
 "cells": [
  {
   "cell_type": "markdown",
   "metadata": {},
   "source": [
    "In this assignment you will implement one or more algorithms for the 2SAT problem.\n",
    "Here are 6 different 2SAT instances:\n",
    "- 2sat1.txt\n",
    "- 2sat2.txt\n",
    "- 2sat3.txt\n",
    "- 2sat4.txt\n",
    "- 2sat5.txt\n",
    "- 2sat6.txt\n",
    "\n",
    "The file format is as follows.\n",
    "In each instance, the number of variables and the number of clauses is the same, and this number is specified on the first line of the file.\n",
    "Each subsequent line specifies a clause via its two literals, with a number denoting the variable and a \"-\" sign denoting logical \"not\".\n",
    "For example, the second line of the first data file is \"-16808 75250\", which indicates the clause ¬x16808∨x75250.\n",
    "\n",
    "Your task is to determine which of the 6 instances are satisfiable, and which are unsatisfiable.\n",
    "In the box below, enter a 6-bit string, where the ith bit should be 1 if the ith instance is satisfiable, and 0 otherwise.\n",
    "For example, if you think that the first 3 instances are satisfiable and the last 3 are not, then you should enter the string 111000 in the box below.\n",
    "\n",
    "*DISCUSSION*: This assignment is deliberately open-ended, and you can implement whichever 2SAT algorithm you want.\n",
    "For example, 2SAT reduces to computing the strongly connected components of a suitable graph (with two vertices per variable and two directed edges per clause, you should think through the details).\n",
    "This might be an especially attractive option for those of you who coded up an SCC algorithm in Part 2 of this specialization.\n",
    "Alternatively, you can use Papadimitriou's randomized local search algorithm.\n",
    "(The algorithm from lecture is probably too slow as stated, so you might want to make one or more simple modifications to it --- even if this means breaking the analysis given in lecture --- to ensure that it runs in a reasonable amount of time.)\n",
    "A third approach is via backtracking.\n",
    "In lecture we mentioned this approach only in passing; see Chapter 9 of the Dasgupta-Papadimitriou-Vazirani book, for example, for more details."
   ]
  },
  {
   "cell_type": "code",
   "execution_count": null,
   "metadata": {
    "collapsed": true
   },
   "outputs": [],
   "source": []
  }
 ],
 "metadata": {
  "anaconda-cloud": {},
  "kernelspec": {
   "display_name": "Python [conda root]",
   "language": "python",
   "name": "conda-root-py"
  },
  "language_info": {
   "codemirror_mode": {
    "name": "ipython",
    "version": 2
   },
   "file_extension": ".py",
   "mimetype": "text/x-python",
   "name": "python",
   "nbconvert_exporter": "python",
   "pygments_lexer": "ipython2",
   "version": "2.7.14"
  }
 },
 "nbformat": 4,
 "nbformat_minor": 2
}
